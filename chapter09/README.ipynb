{
 "cells": [
  {
   "cell_type": "markdown",
   "metadata": {},
   "source": [
    "# Gesty\n",
    "\n",
    "Interesującym efektem ubocznym posiadania akcelerometru jest detekcja gestów.\n",
    "Jeśli będziesz ruszać swoją płytkę BBC micro:bit w określony sposób,\n",
    "MicroPython będzie je mógł rozpoznawać.\n",
    "\n",
    "MicroPython jest zdolny do rozpoznawania następujących gestów: `up` (do góry),\n",
    "`down` (do dołu), `left` (w lewo), `right` (w prawo), `face up` (wierzchem do góry),\n",
    "`face down` (wierzchem do dołu), `freefall` (swobodny spadek), `3g`, `6g`, `8g`.\n",
    "O ile większość nazw powinna być oczywista, `3g`, `6g` i `8g` mają miejsce gdy\n",
    "urządzenie spotykają te poziomy przeciążenia (jak astronaute wysyłanego\n",
    "w kosmos).\n",
    "\n",
    "By odczytać aktualny gest użyj metody `accelerometer.current_gesture`. Jej\n",
    "wynikiem będzie nazwa jednego z wyżej wymienionych gestów. Przykładowo, ten\n",
    "program będzie czynił twoją płytkę szczęśliwą jedynie gdy zwrócona będzie ona\n",
    "wierzchem do góry."
   ]
  },
  {
   "cell_type": "code",
   "execution_count": null,
   "metadata": {},
   "outputs": [],
   "source": [
    "from microbit import *\n",
    "\n",
    "while True:\n",
    "    gesture = accelerometer.current_gesture()\n",
    "    if gesture == \"face up\":\n",
    "        display.show(Image.HAPPY)\n",
    "    else:\n",
    "        display.show(Image.ANGRY)"
   ]
  },
  {
   "cell_type": "markdown",
   "metadata": {},
   "source": [
    "Ponownie, ponieważ chcemy by płytka reagowała na zmieniające się okoliczności\n",
    "użyjemy pętli `while` W jej ciele odczytywany jest aktualny gest, po czym\n",
    "przypisywany jest pod nazwą \"gesture\". Warunek `if` sprawdza czy `gesture`\n",
    "to `face up` (Python używa `==` do sprawdzenia zgodności, a pojedyńczy znak\n",
    "`=` użyty jest do przypisywania - tak jak przypisaliśmy odczytany gest do\n",
    "nazwy `gesture`). Jeśli gest to `face up`, wtedy użyj wyświetlacza by pokazać\n",
    "uśmiechniętą buzię. W przeciwnym wypadku urządzenie przybiera groźny wygląd!\n",
    "\n",
    "## Magiczna 8\n",
    "\n",
    "Kula magiczna ósemka to zabawka wynaleziona w latach 50tych XX wieku. Idea\n",
    "polega na tym by zadać pytanie na które można odpowiedzieć tak/nie, potrząsnąć\n",
    "nią i poczekać aż ujawni się prawda. To raczej proste przekształcić ją\n",
    "w program:"
   ]
  },
  {
   "cell_type": "code",
   "execution_count": null,
   "metadata": {},
   "outputs": [],
   "source": [
    "from microbit import *\n",
    "import random\n",
    "\n",
    "answers = [\n",
    "    \"To pewne\",\n",
    "    \"Zdecydowanie tak\",\n",
    "    \"Pewnie tak\",\n",
    "    \"Tak, definitywnie\",\n",
    "    \"Mozesz polegać na tym\",\n",
    "    \"Tak, nawet to widze\",\n",
    "    \"Chyba tak\",\n",
    "    \"Perspektywy dobre\",\n",
    "    \"TAK\",\n",
    "    \"Objawy wskazują na tak\",\n",
    "    \"Nie wiem, sprobuj ponownie\",\n",
    "    \"Zapytaj potem\",\n",
    "    \"Nie chce odpowiadac teraz\",\n",
    "    \"Nie mozna przewidziec\",\n",
    "    \"Skoncentruj się i zapytaj raz jeszcze\",\n",
    "    \"Nie licz na to\"\n",
    "    \"Nie\",\n",
    "    \"Moje dowody mowia nie\",\n",
    "    \"Perspektywy kiepskie\",\n",
    "    \"Watpliwe\",\n",
    "]\n",
    "\n",
    "while True:\n",
    "    display.show(\"8\")\n",
    "    if accelerometer.was_gesture(\"shake\"):\n",
    "        display.clear()\n",
    "        sleep(1000)\n",
    "        display.scroll(random.choice(answers))"
   ]
  },
  {
   "cell_type": "markdown",
   "metadata": {},
   "source": [
    "Większość programu to lista nazwana \"answers\" (odpowiedzi). Właściwa gra zawiera\n",
    "się w pętli `while` na końcu.\n",
    "\n",
    "Domyślnym stanem gry jest pokazywanie cyfry `8`. Jednakże program musi wykrywać\n",
    "że urządzenieądzenie jest potrząsane. Metoda `was_gesture` używa swojego\n",
    "argumentu (w tym wypadku napisu `shake` (potrząsać) ponieważ chcemy wykryć\n",
    "potrząsanie) by zwrócić\n",
    "`True`/`False` (prawda/fałsz) w odpowiedzi. Jeśli użądzenie było potrząsane,\n",
    "warunkowy \"if\" wykona blok kodu który wyczyści ekran, poczeka sekundę (dzięki\n",
    "czemu będzie wyglądało jakby użądzenie myślało nad odpowiedzią na twoje pytanie)\n",
    "po czym wyświetli przypadkowo wybraną (ang. `random choice`) odpowiedź.\n",
    "\n",
    "Dlaczego by nie zapytać urządzenie czy to nie najwspanialszy program kiedykolwiek\n",
    "napisany? Co możesz zrobić by `oszukiwać` i uzyskiwać zawsze odpowiedź pozytywną\n",
    "lub negatywną? (Podpowiedź: użyj przycisków)."
   ]
  },
  {
   "cell_type": "code",
   "execution_count": null,
   "metadata": {},
   "outputs": [],
   "source": []
  }
 ],
 "metadata": {
  "kernelspec": {
   "display_name": "micro:bit",
   "language": "python",
   "name": "ubit"
  },
  "language_info": {
   "codemirror_mode": {
    "name": "python",
    "version": 3
   },
   "file_extension": ".py",
   "mimetype": "text/x-python",
   "name": "python",
   "pygments_lexer": "python3",
   "version": "3"
  }
 },
 "nbformat": 4,
 "nbformat_minor": 2
}
