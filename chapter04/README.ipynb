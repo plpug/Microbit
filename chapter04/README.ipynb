{
 "cells": [
  {
   "cell_type": "markdown",
   "metadata": {},
   "source": [
    "# Funkcje i moduły\n",
    "\n",
    "Zastanów się, ile rzeczy wyrzucasz każdego dnia: butelki po wodzie, torebki po chipsach, pudełka po lodach, gazety itd. A teraz wyobraź sobie, co by się stało, gdyby wszystkie te śmieci lądowały\n",
    "po prostu na stosie na podjeździe do Twojego domu, bez segregowania papieru, plastiku i aluminiowych puszek.\n",
    "\n",
    "Pewnie w miare możliwości segregujesz odpady i to się chwali, ponieważ nikt nie lubi w drodze do szkoły przedzieradź się przez górę śmieci. Znacznie lepiej jest, jeśli te wszystkie\n",
    "niepotrzebne, szklane pojemniki zostaną przetopione na nowe słoiki czy butelki, jeśli makulatora zostanie przemielona na papier makulatorowy, a plastik przerobiony na inne wyroby plastikowe.\n",
    "\n",
    "W ten sposób ponownie wykorzystujemy różne rzeczy, które w przeciwnym razie lądowałyby na coraz wyższym poziomie śmieci. W świecie programowania zasada powtórnego wykorzystywania jest równie ważna.\n",
    "Oczywiście programy nie znikają pod górą śmieci, ale jeśli nie będziemy w jakimś stopniu wielokrotnie wykorzystywać tego, co już mamy, to od ciągłego\n",
    "przepisywania kodu zatrzemy sobie palce. Powtórne wykorzystanie kodu to również krótsze i łatwiejsze do czytania programy. Jak się wkrótce przekonasz w Pythonie jest kilka sposobów tworzenia kodu\n",
    "wielokrotnego użytku.\n",
    "\n",
    "## Używanie funkcji\n",
    "\n",
    "Jeden ze sposobów na wielokrone używanie kody Pythona już znamy. W poprzednim rozdziale użyliśmy funkcji `print`, `range` i `list`, aby nakazać Pythonowi liczenie:"
   ]
  },
  {
   "cell_type": "code",
   "execution_count": 1,
   "metadata": {},
   "outputs": [
    {
     "name": "stdout",
     "output_type": "stream",
     "text": [
      "[0, 1, 2, 3, 4]\n"
     ]
    }
   ],
   "source": [
    "print(list(range(0,5)))"
   ]
  },
  {
   "cell_type": "markdown",
   "metadata": {},
   "source": [
    "Każdy, kto potrafi liczyć, poradzi sobie z napisaniem listy zawierającej kolejne liczby, po prostu je wypisując, ale im dłuższa lista, tym więcej pisaniny. Dzięki funkcjom utworzenie\n",
    "lisy zawierającej tysiące pozycji nie jest niczym trudnym.\n",
    "Poniżej generujemy listę liczb za pomocą funkcji `list` i `range`:"
   ]
  },
  {
   "cell_type": "code",
   "execution_count": 2,
   "metadata": {},
   "outputs": [
    {
     "name": "stdout",
     "output_type": "stream",
     "text": [
      "[0, 1, 2, 3, 4, 5, 6, 7, 8, 9, 10, 11, 12, 13, 14, 15, 16, 17, 18, 19, 20, 21, 22, 23, 24, 25, 26, 27, 28, 29, 30, 31, 32, 33, 34, 35, 36, 37, 38, 39, 40, 41, 42, 43, 44, 45, 46, 47, 48, 49, 50, 51, 52, 53, 54, 55, 56, 57, 58, 59, 60, 61, 62, 63, 64, 65, 66, 67, 68, 69, 70, 71, 72, 73, 74, 75, 76, 77, 78, 79, 80, 81, 82, 83, 84, 85, 86, 87, 88, 89, 90, 91, 92, 93, 94, 95, 96, 97, 98, 99]\n"
     ]
    }
   ],
   "source": [
    "print(list(range(0,100)))"
   ]
  },
  {
   "cell_type": "markdown",
   "metadata": {},
   "source": [
    "Funkcje to fragmenty kodu, które nakazują Pythonowi wykonać jakieś zadanie. Jest to jeden ze sposobów na wielokrotne wykorzystywanie kodu - funkcji można wielkrotnie używać w różnych programach.\n",
    "Przydatność funkcji widać już przy pisaniu prostych programów. Gdy zaczniesz pisać długie, bardziej skomplikowane aplikacje, takie jak gry, przekonasz się, że funkcje są niezastąopione.\n",
    "\n",
    "## Budowa funkcji\n",
    "\n",
    "Funkcja składa się trzech części: nazwy, parametrów i treści. Oto przykład prostej funkcji:"
   ]
  },
  {
   "cell_type": "code",
   "execution_count": 4,
   "metadata": {},
   "outputs": [],
   "source": [
    "def funkcjaTestowa(mojeImie):\n",
    "    print(\"Witaj %s\" % mojeImie)"
   ]
  },
  {
   "cell_type": "markdown",
   "metadata": {},
   "source": [
    "Nazwa funkcji to `funkcjaTestowa`. Ma ona jeden parametr, `mojeImie`, a jej treścią jest blok kodu znajdujący się bezpośrednio pod wierszem zaczynającym się od `def`.\n",
    "Aby wykonać funkcję, należy ją wywołać, podając kolejno jej nazwę i wartość parametru w nawiasach:"
   ]
  },
  {
   "cell_type": "code",
   "execution_count": 5,
   "metadata": {},
   "outputs": [
    {
     "name": "stdout",
     "output_type": "stream",
     "text": [
      "Witaj Marta\n"
     ]
    }
   ],
   "source": [
    "def funkcjaTestowa(mojeImie):\n",
    "    print(\"Witaj %s\" % mojeImie)\n",
    "\n",
    "funkcjaTestowa(\"Marta\")"
   ]
  },
  {
   "cell_type": "markdown",
   "metadata": {},
   "source": [
    "Możemy też najpierw utworzyć kilka zmiennych, a następnie wywołać funkcje, podając ich nazwy jako parametry:"
   ]
  },
  {
   "cell_type": "code",
   "execution_count": 7,
   "metadata": {},
   "outputs": [
    {
     "name": "stdout",
     "output_type": "stream",
     "text": [
      "Witaj Robin Hood\n"
     ]
    }
   ],
   "source": [
    "def funkcjaTestowa(mojeImie, mojeNazwisko):\n",
    "    print(\"Witaj\", mojeImie, mojeNazwisko)\n",
    "    \n",
    "imie = \"Robin\"\n",
    "nazwisko= \"Hood\"\n",
    "\n",
    "funkcjaTestowa(imie, nazwisko)"
   ]
  },
  {
   "cell_type": "markdown",
   "metadata": {},
   "source": [
    "Funkcja może również zwrócić jakąś wartość. Na przykład wynik dodawania:"
   ]
  },
  {
   "cell_type": "code",
   "execution_count": 9,
   "metadata": {},
   "outputs": [
    {
     "name": "stdout",
     "output_type": "stream",
     "text": [
      "3\n"
     ]
    }
   ],
   "source": [
    "def dodaj(a, b):\n",
    "    return a + b\n",
    "\n",
    "print(dodaj(1,2))"
   ]
  },
  {
   "cell_type": "markdown",
   "metadata": {},
   "source": [
    "## Używanie modułów\n",
    "\n",
    "Moduły służą do organizowania funkcji, zmiennych i innych elementów kodu w większe programy, które dają więcej możliwości. Niektóre z nich są wbudowane w Pythona, inne z kolei są\n",
    "niezależne i można je pobrać. Istnieją moduły pomagające w pisaniu gier (np. zewnątrzny PyGame), moduły ułatwiające obróbkę obrazków( np. PIL czyli Python Imaging Library) i do rysowania trójwymiarowej grafiki (np. Panda3D).\n",
    "\n",
    "Moduły można używać do różnych zadań. Przykładowo gdybyśmy chcieli zrobić jakąś symulacje gry, moglibyśmy obliczać bieżącą date i czas, używając wbudowanego modułu:\n",
    "\n",
    "```python\n",
    ">>> import microbit\n",
    "```"
   ]
  },
  {
   "cell_type": "markdown",
   "metadata": {},
   "source": [
    "W tym przypadku polecenie `import` informuje Pythona, że chcemy używać modułu `microbit`. Od tego momentu za pomocą symbolu `.` (kropki) możemy wywoływać dostępne w danym module funkcje.\n",
    "Oto przykładowe wywołanie funkcji `running_time` w module `microbit`, która pokazuje ile milisekund płyta jest już uruchomiona"
   ]
  },
  {
   "cell_type": "code",
   "execution_count": 16,
   "metadata": {},
   "outputs": [
    {
     "name": "stdout",
     "output_type": "stream",
     "text": [
      "433356\n"
     ]
    }
   ],
   "source": [
    "import microbit\n",
    "\n",
    "print(microbit.running_time())"
   ]
  },
  {
   "cell_type": "markdown",
   "metadata": {},
   "source": [
    "Funkcja `asctime` jest częścią modułu `time` i zwraca bieżącą date i czas pod postacią łańcuchu znaków.\n",
    "\n",
    "# CZĘŚĆ ZAAWANSOWANA - nieobowiązkowa\n",
    "\n",
    "# Obiekty i klasy\n",
    "\n",
    "Właściwie ten rozdział mógłby być tematem całej serii zajęć, my jednak\n",
    "skupimy się na absolutnych podstawach.\n",
    "\n",
    "## Wartości to obiekty\n",
    "Wszystko co do tej pory nazywaliśmy wartością możemy nazwać też obiektem.\n",
    "Widzieliśmy to na przykładzie liczb całkowitych, gdy `help` wypisało\n",
    "nam dziesiątki linii dodatkowych informacji na temat `int`.\n",
    "\n",
    "## Każdy obiekt ma klasę\n",
    "Aby się dowiedzieć jaką wystarczy użyć funkcji`type`:\n",
    "\n",
    "    >>> type(2)\n",
    "    <type 'int'>\n",
    "    >>> type(2.0)\n",
    "    <type 'float'>\n",
    "    >>> type(\"Gżegżółka\")\n",
    "    <type 'str'>\n",
    "    >>> x = 1, 2\n",
    "    >>> type(x)\n",
    "    <type 'tuple'>\n",
    "    >>> type([])\n",
    "    <type 'list'>\n",
    "\n",
    "Gdy używamy w naszym programie liczby, spodziewamy się, że będzie się\n",
    "ona zachowywać tak jak liczba - bazujemy na naszej intuicji.\n",
    "\n",
    "Jednak Python musi dokładnie wiedzieć co znaczy być liczbą całkowitą,\n",
    "np. co ma się stać gdy dodajemy dwie liczby, a co gdy je dzielimy.\n",
    "Klasa dostarcza tych wszystkich informacji i więcej.\n",
    "\n",
    "Sprawdź co oferuje nam klasa ``str`` za pomocą`help`.\n",
    "Zacytujemy tutaj jedynie kilka ciekawszych funkcji:\n",
    "\n",
    "    >>> help(str.lower)\n",
    "    Help on method_descriptor:\n",
    "    <BLANKLINE>\n",
    "    lower(...)\n",
    "        S.lower() -> str\n",
    "    <BLANKLINE>\n",
    "        Return a copy of the string S converted to lowercase.\n",
    "    <BLANKLINE>\n",
    "    >>> help(str.upper)\n",
    "    Help on method_descriptor:\n",
    "    <BLANKLINE>\n",
    "    upper(...)\n",
    "        S.upper() -> str\n",
    "    <BLANKLINE>\n",
    "        Return a copy of S converted to uppercase.\n",
    "    <BLANKLINE>\n",
    "    >>> help(str.ljust)\n",
    "    Help on method_descriptor:\n",
    "    <BLANKLINE>\n",
    "    ljust(...)\n",
    "        S.ljust(width[, fillchar]) -> int\n",
    "    <BLANKLINE>\n",
    "        Return S left-justified in a Unicode string of length width. Padding is\n",
    "        done using the specified fill character (default is a space).\n",
    "    <BLANKLINE>\n",
    "    >>> help(str.center)\n",
    "    Help on method_descriptor:\n",
    "    <BLANKLINE>\n",
    "    center(...)\n",
    "        S.center(width[, fillchar]) -> str\n",
    "    <BLANKLINE>\n",
    "        Return S centered in a Unicode string of length width. Padding is\n",
    "        done using the specified fill character (default is a space)\n",
    "    <BLANKLINE>\n",
    "\n",
    "Wszystko to są operacje, które każdy napis potrafi wykonać. Możemy\n",
    "się do nich dostać używając kropki i wywołując jak funkcję:\n",
    "\n",
    "    >>> x = \"Ala\"\n",
    "    >>> x.upper()\n",
    "    u'ALA'\n",
    "    >>> x.lower()\n",
    "    u'ala'\n",
    "    >>> x.center(9)\n",
    "    u'   Ala   '\n",
    "\n",
    "I jeszcze jedna istotna funkcjonalność każdej klasy - potrafi ona\n",
    "stworzyć obiekt mający jej cechy (tzw. swoją instancję):\n",
    "\n",
    "    >>> int()\n",
    "    0\n",
    "    >>> str()\n",
    "    ''\n",
    "    >>> list()\n",
    "    []\n",
    "    >>> tuple()\n",
    "    ()\n",
    "\n",
    "Podsumowując, poznaliśmy już klasy`int`,`str`,`tuple`,\n",
    "`list`. Aby sprawdzić jakiej klasy jest wartość (obiekt) używamy funkcji\n",
    "`type`. Aby stworzyć instancję klasy (czyli nowy obiekt) wywołujemy\n",
    "klasę podobnie jak wywoływaliśmy funkcję, dopisując nawiasy ``()``, na przykład\n",
    "``int()``.\n",
    "\n",
    "## Definiowanie klass\n",
    "\n",
    "Podobnie jak możemy tworzyć własne funkcje, tak i możemy tworzyć\n",
    "własne klasy. W gruncie rzeczy, klasa to nic innego jak zgrupowane\n",
    "funkcje:\n",
    "\n",
    "    class Dog(object):\n",
    "\n",
    "        def bark(self):\n",
    "            print(u\"Woof! Woof!\")\n",
    "\n",
    "Klasy rozpoczynają się od słowa`class`, po którym podajemy\n",
    "nazwę nowej klasy. Czym jest ``(object)`` wyjaśni się później, gdy\n",
    "będziemy chcieli stworzyć bardziej skomplikowane klasy.\n",
    "\n",
    "Warto natomiast zwrócić uwagę na fakt, że każda funkcja w klasie musi mieć\n",
    "conajmniej jeden argument. Jego wartością będzie obiekt z którego wywołaliśmy\n",
    "tą funkcję (czyli to co przed kropką):\n",
    "\n",
    "    burek = Dog()\n",
    "    burek.bark()\n",
    "\n",
    "Wynik:\n",
    "\n",
    "    Woof! Woof!\n",
    "\n",
    "Argument ten może nazywać się dowolnie, ale intuicyjne jest aby nazwać go ``self``.\n",
    "\n",
    "## Atrybuty obiektów\n",
    "Obiekty poza metodami (funckjami), mogą posiadać też atrybuty:\n",
    "\n",
    "    burek = Dog()\n",
    "    burek.name = \"Burek\"\n",
    "\n",
    "    print(burek.name)\n",
    "\n",
    "Wynik:\n",
    "\n",
    "    Burek\n",
    "\n",
    "Czasami chcemy aby każdy obiekt danej klasy miał jakiś atrybut, np. każdy\n",
    "pies powinien mieć imię. Możemy dodać takie wymaganie definiując funkcję\n",
    "o specjalnej nazwie ``__init__``:\n",
    "\n",
    "\n",
    "\n",
    "    class Dog(object):\n",
    "\n",
    "        def __init__(self, name):\n",
    "            self.name = name\n",
    "\n",
    "        def bark(self):\n",
    "            return \"Woof! %s! Woof!\" % (self.name,)\n",
    "\n",
    "    burek = Dog(u\"Burek\")\n",
    "    pluto = Dog(u\"Pluto\")\n",
    "    print(burek.bark())\n",
    "    print(pluto.bark())\n",
    "\n",
    "Wynik:\n",
    "\n",
    "    Woof! Burek! Woof!\n",
    "    Woof! Pluto! Woof!\n",
    "\n",
    "\n",
    "## Zadania \n",
    "\n",
    "1. Napisz prostą grę, w której przeciwnikiem jest komputer,  która pozwala wybrać numer z zakresu:\n",
    "* od 1 do 100 w pięciu próbach,\n",
    "* od 1 do 7000 w siedmiu próbach,\n",
    "* użytkownik może wybrać podpunkt a) lub b) , kiedy zacznie grę. \n",
    "Po zakończeniu gry powinna być informacja ile rozgrywek było rozegranych, ile wygranych, a ile przegranych.\n",
    "\n",
    "2. Napisz prosty program który pozwoli uczyć się prostych japońskich słów. Dostarczamy plik jap_dict.txt (plik dostaniecie od mentora). \n",
    "Twoim zadaniem jest:\n",
    "\n",
    "* użyć kopiuj+wklej na tekście z tego pliku, lub użyć funkcję open(file_name) aby pobrać dane, \n",
    "* przekształcić tekst na strukturę danych,\n",
    "* zadać pytanie o tłumaczenie z angielskiego na japoński słowa lub frazy, \n",
    "* sprawdzić czy tłumaczenie zostało wykonane poprawnie, jeśli tak - nie pokazywać więcej już tego słowa, \n",
    "* poinformować ile słów jest odgadniętych i ile pozostało,\n",
    "* opcjonalnie na końcu pogratulować, \n",
    "* wskazać różnice w pisowni."
   ]
  },
  {
   "cell_type": "code",
   "execution_count": null,
   "metadata": {},
   "outputs": [],
   "source": []
  }
 ],
 "metadata": {
  "kernelspec": {
   "display_name": "micro:bit",
   "language": "python",
   "name": "ubit"
  },
  "language_info": {
   "codemirror_mode": {
    "name": "python",
    "version": 3
   },
   "file_extension": ".py",
   "mimetype": "text/x-python",
   "name": "python",
   "pygments_lexer": "python3",
   "version": "3"
  }
 },
 "nbformat": 4,
 "nbformat_minor": 2
}
