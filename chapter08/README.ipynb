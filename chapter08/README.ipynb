{
 "cells": [
  {
   "cell_type": "markdown",
   "metadata": {},
   "source": [
    "# Muzyka\n",
    "\n",
    "MicroPython na płytce BBC micro:bit przychodzi z potężnym modułem\n",
    "muzyczno-dźwiękowym.\n",
    "Umożliwia on w bardzo prosty sposób generowanie pisków i brzdęków z\n",
    "urządzenia, jeśli podłączy\n",
    "się pod nie głośnik. Użyj krokodylków by podpiąć piny 0 i GND do wejść głośnika.\n",
    "Nie ma znaczenia kierunek w którym są one podłączone pod głośnik.\n",
    "\n",
    "![microbit][microbit]\n",
    "\n",
    "[microbit]: https://github.com/plpug/Microbit/raw/master/chapter08/img/pin0-gnd.png \"microbit\"\n",
    "\n",
    "Uwaga: Nie próbuj tego z piezo elektrycznym brzęczykiem - takie\n",
    "brzęczyki są przystosowane\n",
    "do grania jedynie pojedyńczego tonu.\n",
    "\n",
    "Przystąpmy zatem do grania jakiejś muzyki:"
   ]
  },
  {
   "cell_type": "code",
   "execution_count": 1,
   "metadata": {},
   "outputs": [],
   "source": [
    "import music\n",
    "\n",
    "music.play(music.RINGTONE)"
   ]
  },
  {
   "cell_type": "markdown",
   "metadata": {},
   "source": [
    "Zauważ, że zaimportowaliśmy moduł \"music\". Zawiera on metody użyte do\n",
    "wytworzenia i kontrolowania dźwięku.\n",
    "\n",
    "MikroPython ma całkiem sporo wbudowanych melodii. Ich kompletna lista to:\n",
    "```python\n",
    "music.DADADADUM\n",
    "music.ENTERTAINER\n",
    "music.PRELUDE\n",
    "music.ODE\n",
    "music.NYAN\n",
    "music.RINGTONE\n",
    "music.FUNK\n",
    "music.BLUES\n",
    "music.BIRTHDAY\n",
    "music.WEDDING\n",
    "music.FUNERAL\n",
    "music.PUNCHLINE\n",
    "music.PYTHON\n",
    "music.BADDY\n",
    "music.CHASE\n",
    "music.BA_DING\n",
    "music.WAWAWAWAA\n",
    "music.JUMP_UP\n",
    "music.JUMP_DOWN\n",
    "music.POWER_UP\n",
    "music.POWER_DOWN\n",
    "```\n",
    "\n",
    "Teraz ponownie weź przykładowy kod i zmień w nim melodię. Która z nich\n",
    "jest twoją ulubioną?\n",
    "W jaki sposób użył byś takich melodyjek by coś zasygnalizować bądź wskazać?\n",
    "\n",
    "## Wolfgang Amadeusz Microbit\n",
    "\n",
    "Tworzenie własnych melodyjek jest proste!\n",
    "\n",
    "Każda nuta ma swoją nazwę (jak C#, czy F), oktawę (mówiącą MicroPythonowi jak\n",
    "wysoko lub nisko powinien zagrać tą nutę) i okres trwania (jak długo powinna\n",
    "ona wybrzmiewać). Oktawy oznaczone są liczbami - 0 jest najniższą oktawą,\n",
    "zawiera środkowe C, a 8 jest najwyższą jaką będziesz kiedykolwiek potrzebować,\n",
    "chyba że tworzysz muzykę dla psów. Okres trwania również wyrażony jest liczbami.\n",
    "Im większa wartość, tym dłużej będzie on trwać. Wartości te odnoszą\n",
    "się do siebie,\n",
    "dla przykładu okres trwania o wartości 4 będzie trwać dwa razy dłużej niż okres\n",
    "o wartości 2 (i tak dalej...).\n",
    "Jeśli użyjesz nuty nazwanej \"R\", MicroPython przeczeka (tj. zamilknie) na zadany\n",
    "okres trwania.\n",
    "\n",
    "Każda nuta wyrażona jest jako ciąg znaków jak ten:\n",
    "\n",
    "NUTA[oktawa][:okres trwania]\n",
    "\n",
    "Dla przykładu `A1:4` odnosi się do nuty nazwanej A w oktawie o numerze 1, granej\n",
    "przez czas o długości 4 jednostek.\n",
    "\n",
    "Zrób listę nut by zapisać melodię (jest to odpowiednikiem tworzenia animacji\n",
    "z listy obrazków). Przykładowo, w ten sposób MicroPython może zagrać\n",
    "otwarcie \"Frere Jaques\":"
   ]
  },
  {
   "cell_type": "code",
   "execution_count": 2,
   "metadata": {},
   "outputs": [],
   "source": [
    "import music\n",
    "\n",
    "tune = [\"C4:4\", \"D4:4\", \"E4:4\", \"C4:4\", \"C4:4\", \"D4:4\", \"E4:4\", \"C4:4\",\n",
    "        \"E4:4\", \"F4:4\", \"G4:8\", \"E4:4\", \"F4:4\", \"G4:8\"]\n",
    "music.play(tune)"
   ]
  },
  {
   "cell_type": "markdown",
   "metadata": {},
   "source": [
    "Uwaga: MicroPython umożliwia uproszczenie takich melodii. Zapamięta on oktawę\n",
    "i okres trwania do póki go nie zmienisz następnym razem. W wyniku powyższy\n",
    "przykład może być przepisany tak:\n",
    "...\n",
    "Zauważ jak zmieniają się wartości oktaw i okresów trwania jedynie gdy muszą.\n",
    "Zaoszczędza to sporo pisania jak i ułatwia czytanie.\n",
    "\n",
    "## Efekty dźwiękowe\n",
    "\n",
    "MicroPython pozwala Ci wytwarzać tony który nie są muzycznymi nutami.\n",
    "Dla przykładu,\n",
    "w ten sposób możesz wytworzyć sygnał policyjnej syreny:"
   ]
  },
  {
   "cell_type": "code",
   "execution_count": null,
   "metadata": {},
   "outputs": [],
   "source": [
    "import music\n",
    "\n",
    "while True:\n",
    "    for freq in range(880, 1760, 16):\n",
    "        music.pitch(freq, 6)\n",
    "    for freq in range(1760, 880, -16):\n",
    "        music.pitch(freq, 6)"
   ]
  },
  {
   "cell_type": "markdown",
   "metadata": {},
   "source": [
    "Zauważ jak w tym przykładzie użyta jest metoda \"music.pitch\". Oczekuje\n",
    "ona częstotliwości.\n",
    "Dla przykładu, częstotliwość 440 jest taka sama jak koncertowy ton A,\n",
    "używany do \"zgrania się\"\n",
    "przez orkiestrę filharmonii.\n",
    "\n",
    "W powyższym przykładzie funkcja `range` użyta jest do wygenerowania przedziału\n",
    "wartości liczbowych. Te liczby użyte są do zdefiniowania wysokości\n",
    "tonu. Trzy argumenty\n",
    "funkcji `range` są: wartością początkową, końcową i wartością kroku. W\n",
    "związku z tym\n",
    "pierwsze użycie `range` mówi, w języku polskim: utwórz przedział\n",
    "wartości pomiędzy 880 a 1760,\n",
    "dodając co krok 16. Trugie użycie `range` mówi: utwórz przedział\n",
    "wartości pomiędzy 1760 i 880,\n",
    "dodając co krok -16 (czyli odejmując 16). W ten sposób otrzymujemy\n",
    "przedział częstotliwości\n",
    "zmieniając wysokość tonu tak jak syrena.\n",
    "\n",
    "Jako że syrena powinna trwać bez końca otacza ją nieskończona pętla `while`.\n",
    "\n",
    "Najważniejsze w tym jest wprowadzenie nowego typu pętli wewnątrz pętli\n",
    "`while` - pętla `for`.\n",
    "Po polsku powiedzielibyśmy \"dla każdego elementu w pewnej kolekcji,\n",
    "wykonaj z nią pewne działanie\".\n",
    "Po angielsku (na którym bazuje język Python) brzmi to \"for each item\n",
    "in some collection, do some\n",
    "activity with it\". Stąd mamy `for`,`in`. W naszym przykładzie to \"dla\n",
    "każdej częstotliwości `freq`\n",
    "w przedziale `range` graj dźwięk o tej częstotliwości przez 6 milisekund\".\n",
    "Zauważ że każda akcja do wykonania w pętli `for` ma wcięcie (zgodnie z\n",
    "tym o czym rozmawialiśmy\n",
    "wcześniej) dzięki czemu Python wie dokładnie jaki kod wykonać dla\n",
    "poszczególnych elementów kolekcji."
   ]
  },
  {
   "cell_type": "code",
   "execution_count": null,
   "metadata": {},
   "outputs": [],
   "source": []
  }
 ],
 "metadata": {
  "kernelspec": {
   "display_name": "micro:bit",
   "language": "python",
   "name": "ubit"
  },
  "language_info": {
   "codemirror_mode": {
    "name": "python",
    "version": 3
   },
   "file_extension": ".py",
   "mimetype": "text/x-python",
   "name": "python",
   "pygments_lexer": "python3",
   "version": "3"
  }
 },
 "nbformat": 4,
 "nbformat_minor": 2
}
