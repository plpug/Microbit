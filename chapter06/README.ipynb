{
 "cells": [
  {
   "cell_type": "markdown",
   "metadata": {},
   "source": [
    "# Pobawmy się przyciskami\n",
    "\n",
    "Do tej pory stworzylismy kod powodujacy ze urzadzenie robi \"coś\". To coś - nazywamy \"wyjściem\" (efektem). Jednakze nasze urzadzenie powinno reagowac na \"coś\". Tym razem \"coś\" - nazywamy \"wejściem\".\n",
    "\n",
    "To jest latwe do zapamiętania: wyjściem jest to, co urządzenie z siebie daje. Wejściem jest za to, to, co urządzenie przyjmuje do wykorzystania/przetworzenia.\n",
    "\n",
    "Najbardziej oczywistym znaczeniem \"wejścia\" na micro:bit są dwa przyciski, opisane jako A i B. Naszym zadaniem jest zareagowanie z MicroPythona na ich przyciskanie.\n",
    "\n",
    "Jest to niezbyt trudne:"
   ]
  },
  {
   "cell_type": "code",
   "execution_count": 1,
   "metadata": {},
   "outputs": [],
   "source": [
    "from microbit import *\n",
    "\n",
    "sleep(3000)\n",
    "display.scroll(str(button_a.get_presses()))"
   ]
  },
  {
   "cell_type": "markdown",
   "metadata": {},
   "source": [
    "Powyższy skrypt pokazuje: urządzenie jest uśpione przez trzy tysiące sekund, po czym przewija tyle razy ile razy został naciśnięty przycisk.\n",
    "\n",
    "Choć jest dość bezużyteczny skrypt, wprowadza kilka ciekawych pomysłów:\n",
    "\n",
    "1. Funkcja `sleep` sprawia, że micro:bit jest uśpiony dla pewnej liczby milisekund. Jeśli chcesz pauze w swoim programie, właśnie w taki sposób się robi. Funkcja jest jak metoda, ale nie jest zamocowana do punktu obiektu.\n",
    "1. Jest to obiekt nazwany `button_a` i pozwala uzyskać ile razy został naciśnięty metodą `get_presses`.\n",
    "\n",
    "Ponieważ `get_presses` daje wartość liczbową i `display.scroll` wyświetla tylko znaki, musimy przekonwertować wartość numeryczną na łańcuch znaków. Robimy to za pomocą funkcji str ( skrót od string, konwertuje rzeczy na ciągi znaków).\n",
    "\n",
    "Jeśli spojrzysz na te zagnieżdzone nawiasy, zauważysz ze display.scroll zawiera obiekt typu str (tekst) który to zawiera `button_a.get_presses`.\n",
    "Python rozpoczyna od wykonywania najbardziej wewnętrznie zagnieżdżonej części, zanim jej wynik przekaże do kolejnej warstwy.\n",
    "Taki sposób programowania nazywa się zagnieżdżaniem - w programowaniu jest on odpowiednikiem rosyjskiej lalki Matrioszki.\n",
    "\n",
    "![matrioszka][matrioszka]\n",
    "\n",
    "[matrioszka]: https://github.com/plpug/Microbit/raw/master/chapter06/img/1.jpg \"matrioszka\"\n",
    "\n",
    "Załóżmy, że masz wciśnięty przycisk 10 razy, oto jak Python działa. Co się dzieje w ostatnim wierszu kodu:\n",
    "\n",
    "Python widzi kompletną linie i pobiera wartość `get_presses`:\n",
    "\n",
    "```python\n",
    "display.scroll(str(button_a.get_presses()))\n",
    "```\n",
    "\n",
    "Teraz gdy wie ile razy został naciśnięty przycisk, to konwertuje wartość liczbową w ciąg znaków:\n",
    "\n",
    "``` python\n",
    "display.scroll(str(10))\n",
    "```\n",
    "Wreszcie Python wie co jest przewijane w wyświetlaczu:\n",
    "\n",
    "```python\n",
    "display.scroll(\"10\")\n",
    "```\n",
    "\n",
    "## Pętle zdarzeń\n",
    "\n",
    "Często potrzebujesz by Twój program poczekał aż coś się wydarzy. Robi się to tworząc pętlę w koło kawałka kodu, który definiuje jak zareagować na różne spodziewane zdarzenia takie jak przyciśnięcie przycisku.\n",
    "By stworzyć pętlę w Pythonie, użyj słowa kluczowego `while` (oznaczającego \"do kiedy\"). Sprawdza ono czy coś zwraca wartość `True` (prawdę).\n",
    "Jeśli tak jest, wykonuje ono blok kodu zwany `ciałem pętli`. Jeśli tak nie jest, przerywa ono pętlę (ignorując jej ciało) po czym przechodzi do kontynuacji wykonywania następującej po nim reszty programu.\n",
    "\n",
    "W Pythonie można prosto zdefiniować blok kodu. Powiedzmy, że mam do zrobienia rzeczy - zanotowałam to sobie na kartce papieru.Prawdopodobnie wygląda to tak:\n",
    "\n",
    "```python\n",
    "Zakupy\n",
    "Wyczyścić lodówkę\n",
    "Skosić trawnik\n",
    "```\n",
    "\n",
    "Jeżeli potrzebowałabym dokładniejszej listy, zrobiłabym tak:\n",
    "\n",
    "```python\n",
    "Zakupy\n",
    "\tJajka\n",
    "\tBekon\n",
    "\tMasło\n",
    "\n",
    "Wyczyścić lodówke\n",
    "\tZnaleźć nową ścierkę\n",
    "\tWyciągnąć produkty\n",
    "\tWyciągnąć szuflady\n",
    "\n",
    "Skosić trawnik\n",
    "\tSprawdzić trawnik\n",
    "\tSprawdzić poziom oleju w kosiarce\n",
    "```\n",
    "\n",
    "Oczywiste jest, że główne zadania są podzielone na podzadania, które są wciętę pod głównym zadaniem, z którym są związane. Więc jajka, bekon oraz masło są związane z `zakupy`.\n",
    "\n",
    "Przez wcięcia widać, że zadania są ze sobą powiązane. Nazywa się to zagnieżdżeniem, użyjemy go do zdefiniowania bloku kodu, jak w przykładzie poniżej:"
   ]
  },
  {
   "cell_type": "code",
   "execution_count": 2,
   "metadata": {},
   "outputs": [],
   "source": [
    "from microbit import *\n",
    "\n",
    "while running_time() < 10000:\n",
    "    display.show(Image.ASLEEP)\n",
    "\n",
    "display.show(Image.SURPRISED)"
   ]
  },
  {
   "cell_type": "markdown",
   "metadata": {},
   "source": [
    "Linia `while running_time() < 10000:` sprawdza czy program działa krócej niż 10000 milisekund, czyli 10 sekund. Jeśli tak jest, i tu właśnie widzimy zakres działania, wtedy wyświetla obrazek `Image.ASLEEP` (śpię). Zauważ jak to jest wysunięte (wcięcie) przez co wygląda jak lista rzeczy do zrobienia.\n",
    "\n",
    "Oczywiście jeśli czas pracy jest równy lub większy niż 1000 milisekund, wówczas na wyświetlaczu pojawi się `Image.SURPRISED.` Dlaczego? Ponieważ pętla jest zakończona\n",
    "i program będzie kontynuowany po bloku kodu pętli `while`. Wygląda na to, że urządzenie śpi przez 10 sekund, zanim obudzi się z zaskoczeniem.\n",
    "\n",
    "Spróbuj!\n",
    "\n",
    "## Obsługa zdarzeń\n",
    "\n",
    "Jeśli chcemy aby MicroPython reagował na zdarzenia związane z naciśnięciem przycisku, powinniśmy umieścić kod w pętli `while` (pętla nieskończona) i sprawdzić\n",
    "czy przycisk jest naciskany.\n",
    "\n",
    "```python\n",
    "while True:\n",
    "    # robić coś\n",
    "```\n",
    "Zróbmy sobie bardzo prosty projekt - zwierzak. Jest on zawsze smutny, aby go rozweselić naciskamy przycisk A, gdy naciskamy przycisk B nasz zwierzak umiera:"
   ]
  },
  {
   "cell_type": "code",
   "execution_count": null,
   "metadata": {},
   "outputs": [],
   "source": [
    "from microbit import *\n",
    "\n",
    "while True:\n",
    "    if button_a.is_pressed():\n",
    "        display.show(Image.HAPPY)\n",
    "    elif button_b.is_pressed():\n",
    "        break\n",
    "    else:\n",
    "        display.show(Image.SAD)\n",
    "\n",
    "display.clear()"
   ]
  },
  {
   "cell_type": "markdown",
   "metadata": {},
   "source": [
    "Wiemy, że nie jest to przyjemna gra, ale na jej podstawie możesz zrozumieć działanie obsługi zdarzeń i stworzyć z tego przykładu swój projekt."
   ]
  }
 ],
 "metadata": {
  "kernelspec": {
   "display_name": "micro:bit",
   "language": "python",
   "name": "ubit"
  },
  "language_info": {
   "codemirror_mode": {
    "name": "python",
    "version": 3
   },
   "file_extension": ".py",
   "mimetype": "text/x-python",
   "name": "python",
   "pygments_lexer": "python3",
   "version": "3"
  }
 },
 "nbformat": 4,
 "nbformat_minor": 2
}
