{
 "cells": [
  {
   "cell_type": "markdown",
   "metadata": {},
   "source": [
    "# Ćwiczenia\n",
    "\n",
    "W trakcie trwania warsztatów poznawałeś różne funkcjonalności urządzenia. Wyświetlałeś obrazki, animacje, dźwięki, a nawet komunikowałeś się z kolegą za pomocą\n",
    "modułu radia. Nadszedł czas na to, abyś mógł łączyć to czego do tej pory się nauczyłeś, aby stworzyć coś nowego.\n",
    "\n",
    "No to zaczynamy!\n",
    "\n",
    "\n",
    "## Ćwiczenie 1 - Wyświetl negatyw serduszka\n",
    "\n",
    "Tworzyliśmy na zajęciach już swoje obrazki w tym, swoje serduszka. A co by się stało gdybyśmy zrobili odwrótność takiego serduszka?\n",
    "Wyszedł by nam ciekawy negatyw. I to jest Waszym celem :)\n",
    "\n",
    "Podpowiedź:\n",
    "* Pamiętaj, aby użyć `Image()`\n",
    "* Rozpisz sobie wszystko na kartce (będzie Ci prościej)\n",
    "* Obiekt `Image` posiada metodę `invert()` która zwróci negatyw obrazka"
   ]
  },
  {
   "cell_type": "code",
   "execution_count": null,
   "metadata": {},
   "outputs": [],
   "source": [
    "from microbit import *\n",
    "\n"
   ]
  },
  {
   "cell_type": "markdown",
   "metadata": {},
   "source": [
    "## Ćwiczenie 2 - Wyświetl zająca\n",
    "\n",
    "Zbliżają się święta wielkanocne, każdy z nas lubi czekoladowe zające. Spróbujemy stworzyć sobie zająca i wyświetlić go na Micro:bicie. Co więcej spróbujmy sprawić aby nasz zając się ruszał!\n",
    "\n",
    "Podpowiedź:\n",
    "\n",
    "* Pamiętaj, aby użyć `Image()`\n",
    "* Zerknij sobie do rozdziału [piątego](../chapter05) do opisu obrazków DIY.\n",
    "* Obiekt `Image` posiada metody `shift_right()`, `shift_left()`, `shift_up()` oraz `shift_down()` do przesuwania obrazka w różnych kierunkach"
   ]
  },
  {
   "cell_type": "code",
   "execution_count": null,
   "metadata": {},
   "outputs": [],
   "source": [
    "from microbit import *\n",
    "\n"
   ]
  },
  {
   "cell_type": "markdown",
   "metadata": {},
   "source": [
    "## Ćwiczenie 3\n",
    "\n",
    "Spróbuj napisać program, który pozwoli nam pokazać jaki przycisk naciskasz.\n",
    "\n",
    "* Masz tylko 2 przycisku A i B\n",
    "* spróbuj użyć `if`\n",
    "* użyj `is_pressed()`"
   ]
  },
  {
   "cell_type": "code",
   "execution_count": null,
   "metadata": {},
   "outputs": [],
   "source": [
    "from microbit import *\n",
    "\n"
   ]
  },
  {
   "cell_type": "markdown",
   "metadata": {},
   "source": [
    "## Ćwiczenie 4 - symulacja bicia serca\n",
    "\n",
    "Każdy z nas pewnie leżał kiedyś w szpitalu lub oglądał serial o chirurgach. Napiszcie program, który będzie symulował rytm serca."
   ]
  },
  {
   "cell_type": "code",
   "execution_count": null,
   "metadata": {},
   "outputs": [],
   "source": [
    "from microbit import *\n",
    "\n"
   ]
  },
  {
   "cell_type": "markdown",
   "metadata": {},
   "source": [
    "## Ćwiczenie 5 - wstrząśni i pokaż słowo\n",
    "\n",
    "Celem tego ćwiczenia jest napisanie programu, który wyświetla jakieś słowo po wstrząśnięciu swojego urządzenia.\n",
    "\n",
    "Podpowiedź:\n",
    "\n",
    "* umieść swoje słowa wewnątrz listy(stworzyć listę słów)\n",
    "* użyj `accelerometer.was_gesture(\"shake\")`\n",
    "* wybierz przypadkową wiadomość za pomocą komendy random.choice(messages)"
   ]
  },
  {
   "cell_type": "code",
   "execution_count": null,
   "metadata": {},
   "outputs": [],
   "source": [
    "from microbit import *\n",
    "\n"
   ]
  },
  {
   "cell_type": "markdown",
   "metadata": {},
   "source": [
    "## Ćwiczenie 6 - użyj radia\n",
    "\n",
    "Pobawimy się teraz w wysyłanie microbitowych smsów ;). Wybierz wiadomość i wyślij ją za każdym razem, kiedy naciśniesz przycisk (A lub B).\n",
    "\n",
    "Podpowiedź:\n",
    "* Pamiętaj, żeby wywołać radio: `radio.on()`\n",
    "* Wyświetl na ekranie wiadomość, którą otrzymasz.\n",
    "* Upraszczając załóżmy, że tylko jeden Micro:bit naraz będzie wysyłał wiadomość"
   ]
  },
  {
   "cell_type": "code",
   "execution_count": null,
   "metadata": {},
   "outputs": [],
   "source": [
    "from microbit import *\n",
    "\n"
   ]
  },
  {
   "cell_type": "code",
   "execution_count": null,
   "metadata": {},
   "outputs": [],
   "source": []
  }
 ],
 "metadata": {
  "kernelspec": {
   "display_name": "micro:bit",
   "language": "python",
   "name": "ubit"
  },
  "language_info": {
   "codemirror_mode": {
    "name": "python",
    "version": 3
   },
   "file_extension": ".py",
   "mimetype": "text/x-python",
   "name": "python",
   "pygments_lexer": "python3",
   "version": "3"
  }
 },
 "nbformat": 4,
 "nbformat_minor": 2
}
