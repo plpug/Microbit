{
 "cells": [
  {
   "cell_type": "markdown",
   "metadata": {},
   "source": [
    "# Instrukcje warunkowe IF i ELSE\n",
    "\n",
    "W programowaniu często zadajemy pytania rostrzygające (na tak lub nie) i na podstawie odpowiedzi, podejmujemy decyzję co robić. Możemy na przykład zapytać: \"Czy masz więcej niż 15 lat?\" i jeśli odpowiedź brzmi \"tak\", i odpowiedzieć \"Ale dużo :o\".\n",
    "Tego rodzaju pytania są nazywane `warunkami`, łączymy wraz z odpowiedziami w instrukcje `if`(jeżeli).\n",
    "\n",
    "Warunki mogą składać się z wielu pytań, a instrukcje `if` można konstruować na podstawie różnych odpowiedzi na te pytania. W tym rozdziale dowiesz się jak używać instrukcji `if` do pisania programów.\n",
    "\n",
    "## Instrukcje IF"
   ]
  },
  {
   "cell_type": "code",
   "execution_count": null,
   "metadata": {},
   "outputs": [],
   "source": [
    "wiek = 23\n",
    "if wiek > 15:\n",
    "    print(\"Ale dużo :o\")"
   ]
  },
  {
   "cell_type": "markdown",
   "metadata": {},
   "source": [
    "Instrukcja if składa się ze słowa kluczowego `if`, po którym podajemy warunek oraz dwukropek (:), tak jak `wiek > 20:`. Wiersze po dwukropku muszą znajdować się w bloku, a jeśli odpowiedź na pytanie to `tak`, to polecenia w bloku zostaną wykonane. Dowiedzmy się teraz jak pisać bloki i warunki.\n",
    "\n",
    "Blok kodu to w programowaniu celowo oddzielny zbiór instrukcji. Jeśli przykładowo warunek `if wiek >10`: jest prawdziwy, możemy wyświetlić informacje ale i nawet kilka innych zdań. W pythonie bloki kodu wydziela się przez wcięciac(spacje albo tabulatory)"
   ]
  },
  {
   "cell_type": "code",
   "execution_count": null,
   "metadata": {},
   "outputs": [],
   "source": [
    "wiek = 23\n",
    "if wiek > 20:\n",
    "    print(\"Ale dużo :o\")\n",
    "    print(\"Pomóż ojcu w pracach domowych\")"
   ]
  },
  {
   "cell_type": "markdown",
   "metadata": {},
   "source": [
    "Powyższy blok składa się z dwóch instrukcji `print`, które są wykonywane tylko wtedy, gdy warunek `wiek > 20` okaże się prawdziwy. Każdy wiersz w bloku ma o cztery spacje więcej niż znajdująca się powyżej instrukcja `if`.\n",
    "W Pythonie odstęp taki jak np. tabulacja (wstawiana przez naciśnięciu tabulatora) albo spacja (wstawiana po naciśnięciu spacji) jest bardzo ważny. \n",
    "\n",
    "Symbole używane w instrukcjach warunkowych:\n",
    "\n",
    "| Symbol        | Definicja         |\n",
    "| ------------- |:-----------------:|\n",
    "|==             | równa się         |\n",
    "|!=  \t        | różny od          |\n",
    "|>              | większy niż       |\n",
    "|<\t\t| mniejszy niż\t    |\n",
    "|>=\t\t| większy lub równy |\n",
    "|<=\t\t| mniejszy lub równy|\n",
    "\n",
    "Jeżeli na przykład masz 10 lat, warunek `wiek == 10 ` zwróci `True`. Jeśli jest inaczej zwróci `False`. Jeśli masz lat 13, warunek wiek > 10 zwróci `True`. \n",
    "\n",
    "Wykonajmy kilka prostych przykładów. Ustawimy tutaj zmienną, następnie zapisujemy instrukcje warunkową, która wyświetla tekst \"Jesteś za stary na breakdance!\", jeśli zmienna wiek ma wartość większą niż 10: "
   ]
  },
  {
   "cell_type": "code",
   "execution_count": null,
   "metadata": {},
   "outputs": [],
   "source": [
    "wiek = 10\n",
    "if wiek > 10:\n",
    "    print(\"Jesteś za stary na breakdance!\")"
   ]
  },
  {
   "cell_type": "markdown",
   "metadata": {},
   "source": [
    "Python nie uruchamia bloku `print`. Jeżeli zmienimy to ustawiając wartość wieku na 20, komunikat zostanie zwrócony.\n",
    "\n",
    "Zmieńmy teraz powyższy przykład, aby użyć warunku \"większy lub równy\" (>=):"
   ]
  },
  {
   "cell_type": "code",
   "execution_count": null,
   "metadata": {},
   "outputs": [],
   "source": [
    "wiek = 10\n",
    "if wiek >= 10:\n",
    "    print(\"Jesteś za stary na moje żarty\")"
   ]
  },
  {
   "cell_type": "markdown",
   "metadata": {},
   "source": [
    "Ponieważ nasza zmienna wiek ma wartość 10, na ekranie powinniśmy zobaczyć tekst \"Jesteś za stary na moje żarty\". Spróbujmy użyć teraz warunku \"równa się\" (==):"
   ]
  },
  {
   "cell_type": "code",
   "execution_count": null,
   "metadata": {},
   "outputs": [],
   "source": [
    "wiek = 10\n",
    "if wiek == 10:\n",
    "    print(\"Jestes za stary na pieluchy\")"
   ]
  },
  {
   "cell_type": "markdown",
   "metadata": {},
   "source": [
    "Na ekranie powinien zostać wyświetlony tekst \"Jesteś za stary na pieluchy\".\n",
    "\n",
    "## Instrukcje IF-ELSE\n",
    "\n",
    "Instrukcji `if` możemy używać nie tylko do wykonywania kodu w przypadku spełnienia kryteriów warunku (`True`) ale również wtedy, gdy warunek nie jest zgodny z prawdą. Na przykład treść wyświetlanego komunikatu może zależeć od tego, czy zmienna `wiek` ma wartość 12 czy też jakąś inną (`False`). W przypadku tym używamy `if-else`, której sens można wyjaśnić tak: \"Jeśli coś jest zgodne z prawdą, to zrób to, w przeciwnym przypadku, zrób tamto\". \n",
    "\n",
    "No to napiszmy instrukcje `if-else`:"
   ]
  },
  {
   "cell_type": "code",
   "execution_count": null,
   "metadata": {},
   "outputs": [],
   "source": [
    "print (\"Powiedzieć Ci coś śmiesznego\")\n",
    "wiek = 12\n",
    "if wiek == 12:\n",
    "    print(\"Coś śmiesznego\")\n",
    "else:\n",
    "    print(\"Ciiiii nie bo ktoś usłyszy!\")"
   ]
  },
  {
   "cell_type": "markdown",
   "metadata": {},
   "source": [
    "Ponieważ ustawiliśmy zmienną `wiek` na 12, a warunek sprawdza, czy wartość zmiennej `wiek` to 12, powinien się pojawić na ekranie pierwszy komunikat. Teraz zmieńmy wartość na jakąś inną:"
   ]
  },
  {
   "cell_type": "code",
   "execution_count": null,
   "metadata": {},
   "outputs": [],
   "source": [
    "print(\"Powiedzieć Ci coś śmiesznego\")\n",
    "wiek = 7\n",
    "if wiek == 12:\n",
    "    print(\"Coś śmiesznego\")\n",
    "else:\n",
    "    print(\"Ciiiii nie bo ktoś usłyszy!\")"
   ]
  },
  {
   "cell_type": "markdown",
   "metadata": {},
   "source": [
    "Tym razem powinien być widoczny drugi komunikat.\n",
    "\n",
    "## Instrukcje IF, ELSE i ELIF\n",
    "\n",
    "Instrukcje `if` można rozbudować jeszcze za pomocą słowa kluczowego `elif` ( co jest skrótem od `else-if`). Możemy na przykład sprawdzać, czy osoba ma np. 10, 11, czy 12 lat i nakazać programowi zróżnicowane działania w zależności od odpowiedzi.  Instrukcje te różnią się od `if-then-else` tym, że jedna instrukcja może zawierać więcej niż jedno słowo kluczowe `elif`. "
   ]
  },
  {
   "cell_type": "code",
   "execution_count": null,
   "metadata": {},
   "outputs": [],
   "source": [
    "wiek = 12\n",
    "if wiek == 10:\n",
    "    print(\"Co robi worek, gdy jest zmęczony?\")\n",
    "    print(\"Śpiwór!\")\n",
    "elif wiek == 11:\n",
    "    print(\"Ile nóg ma koń?\")\n",
    "    print(\"8! 2 z prawej, 2 z lewej, 2 z tyłu i 2 z przodu\")\n",
    "elif wiek == 12:\n",
    "    print(\"Co mówi programista na łożu śmierci?\")\n",
    "    print(\"Bye world\")\n",
    "elif wiek == 13:\n",
    "    print(\"Co rośnie w sadzie programisty?\")\n",
    "    print(\"Drzewo binarne\")\n",
    "else:\n",
    "    print(\"Co?\")"
   ]
  },
  {
   "cell_type": "markdown",
   "metadata": {},
   "source": [
    "W tym przykładzie istrukcja `if` w drugim wierszu sprawdza czy wartość zmiennej `wiek` jest równa 10. Jeśli zmienna wiek ma wartość 10, wykonywana jest znajdująca się w kolejnym wierszu instrukcja `print`. Ponieważ jednak ustawiliśmy jednak wiek na 12, program przeskakuje do kolejnej instrukcji `if` i sprawdza, czy zmienna `wiek` ma wartość 11. Nie ma, więc program przeskakuje do kolejnej instrukcji `if`, gdzie sprawdza, czy `wiek` równa się 12. Równa się, więc program wykonuje instrukcje `print`.\n",
    "\n",
    "Na ekranie powinnien zostać wyświetlony tekst:\n",
    "\n",
    "```python\n",
    "Co mówi programista na łożu śmierci?\n",
    "    Bye world\n",
    "```\n",
    "\n",
    "## Warunki łączone\n",
    "\n",
    "Warunki można łączyć za pomocą słów kluczowych and (i) i or (lub), a dzięki temu kod staje się krótszy i prostszy. Oto przykładowe użycie słowa kluczowego or:"
   ]
  },
  {
   "cell_type": "code",
   "execution_count": null,
   "metadata": {},
   "outputs": [],
   "source": [
    "wiek - 13\n",
    "if wiek == 10 or wiek == 11 or wiek == 12 or wiek == 13:\n",
    "    print (\"Mamo piszę do Ciebie wiersz\")\n",
    "else:\n",
    "    print(\"Ale dlaczego?\")"
   ]
  },
  {
   "cell_type": "markdown",
   "metadata": {},
   "source": [
    "Widzimy w tym kodzie, że jeśli kiedykolwiek z warunków w pierwszym wierszu jest spełniony ( jeśli wiek to 10,11,12 lub 13) wykonany zostanie blok kodu w kolejnym wierszu, zaczynający się od print. Jeżeli nie jest spełniony żaden z warunków podanych w wierszy pierwszym ( `else`), Python przechodzi do bloku w ostatnim wierszu, wyświetlając na ekranie `Ale dlaczego?`\n",
    "\n",
    "\n",
    "## Zadania\n",
    "1. Utwórz instrukcje, która sprawdza, czy liczba wafelków (zapisana w zmiennej `wafelki`) jest mniejsza niż 100 lub większa niż 500. Jeśli warunek jest spełniony, program powinien wyświetlać komunikaty: \"za mało\" lub \"za dużo\".\n",
    "\n",
    "2. Utwórz instrukcje `if`, która sprawdza, czy kwota pieniędzy zapisana w zmiennej 'kwota' mieści się w przedziale od 100 do 500 lub w przedziale od 1000 do 5000.\n",
    "\n",
    "## Podsumowanie\n",
    "\n",
    "\n",
    "W tym rozdziale dowiedzieliśmy się, jak za pomocą instrukcji tworzyć bloki kodu, które są wykonywane tylko po spełnieniu zdefiniowanych warunków. Wiemy, jak rozbudować instrukcje `if` za pomocą `elif`, aby różne fragmenty kodu były wykorzystywane w zależności od spełnienia różnych warunków, oraz jak wykorzystywać `else`, aby wykonywać kod, jeśli żaden z warunków nie zostanie spełniony. "
   ]
  },
  {
   "cell_type": "code",
   "execution_count": null,
   "metadata": {},
   "outputs": [],
   "source": []
  }
 ],
 "metadata": {
  "kernelspec": {
   "display_name": "micro:bit",
   "language": "python",
   "name": "ubit"
  },
  "language_info": {
   "codemirror_mode": {
    "name": "python",
    "version": 3
   },
   "file_extension": ".py",
   "mimetype": "text/x-python",
   "name": "python",
   "pygments_lexer": "python3",
   "version": "3"
  }
 },
 "nbformat": 4,
 "nbformat_minor": 2
}
