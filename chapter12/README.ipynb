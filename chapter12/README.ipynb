{
 "cells": [
  {
   "cell_type": "markdown",
   "metadata": {},
   "source": [
    "# Radio\n",
    "\n",
    "W każdym Micro:bicie znajduje się ciekawa oraz przydatna funkcjonalność, a mianowicie `Radio`. Moduł radio pozwala nam\n",
    "na przesyłanie oraz odbieranie wiadomości.\n",
    "\n",
    "Po pierwsze musimy zaimportować moduł radia `import radio`, aby udostępnić funkcje naszemu programowi. Następnie musimy uruchomić radio, za pomocą `radio.on()`.\n",
    "\n",
    "W tym momencie moduł radiowy jest skonfigurowany do rozsądnych wartość domyślnych, sprawiają one że jest kompatybilny z innymi platformami, które są zgodne z BBC micro:bit.\n",
    "Możliwe jest sterowanie z omówionymi powyżej funkcjami, jak również ilość wykorzystywana transmijsi wiadomości i ilości pamięci RAM. Zakładając, że jesteśmy zadowoleni z ustawień\n",
    "domyślnych, najprostszy sposób wysyłania wiadomości jest następujący:\n",
    "\n",
    "`radio.send(\"wiadomość\")`\n",
    "\n",
    "W przykładzie użyliśmy funkcji wysyłania, aby po prostu nadać ciąg znaków \"wiadomość\". Otrzymywanie wiadomości jest jeszcze prostsze:\n",
    "\n",
    "```python\n",
    "new_message = radio.receive()\n",
    "```\n",
    "\n",
    "Po otrzymaniu wiadomości są one umieszczane w kolejce wiadomości. Funkcja `receive` (odbierania) zwraca najstarszą wiadomość z kolejki jako ciąg znaków, co umożliwia utworzenie nowej wiadomości przychodzącej. Jeśli wypełni się kolejka komunikatów, nowe przychodzące wiadomości są ignorowane.\n",
    "\n",
    "Posiadając taką wiedzę, możemy stworzyć swój pierwszy projekt:"
   ]
  },
  {
   "cell_type": "code",
   "execution_count": null,
   "metadata": {},
   "outputs": [],
   "source": [
    "from microbit import display, button_a, Image\n",
    "import radio\n",
    "radio.on()\n",
    "while True:\n",
    "    message = radio.receive()\n",
    "    if message:\n",
    "        display.show(Image.DUCK)\n",
    "    if button_a.was_pressed():\n",
    "        display.clear()\n",
    "        radio.send(\"hello\")"
   ]
  },
  {
   "cell_type": "markdown",
   "metadata": {},
   "source": [
    "Kluczowa część zawiera się w pętli zdarzeń. Po pierwsze, sprawdza ona czy przycisk A został wciśnięty, i jeśli tak - używa radia by by wysłać wiadomość \"hello\" (ang. cześć). Następnie czyta wszelkie wiadomości z kolejki wiadomości z użyciem radio.receive(). Po czym używa display.show() by pokazać obrazek kaczki.\n",
    "\n",
    "## Ćwiczenie\n",
    "\n",
    "Dobieramy się w dwu osobowe zespoły. Staramy się przećwiczyć w parach działanie powyższego przykładu. Po przećwiczeniu, zadaniem Waszym jest\n",
    "na podstawie przykładu stworzyć własny program. Program musi działać, zgodnie z poniższymi instrukcjami:\n",
    "\n",
    "* Zaimportować moduł radio\n",
    "* Włączyć radio\n",
    "* Wysyłać albo otrzymywać wiadomości\n",
    "* Wyświetlić animacje"
   ]
  },
  {
   "cell_type": "code",
   "execution_count": null,
   "metadata": {},
   "outputs": [],
   "source": []
  }
 ],
 "metadata": {
  "kernelspec": {
   "display_name": "micro:bit",
   "language": "python",
   "name": "ubit"
  },
  "language_info": {
   "codemirror_mode": {
    "name": "python",
    "version": 3
   },
   "file_extension": ".py",
   "mimetype": "text/x-python",
   "name": "python",
   "pygments_lexer": "python3",
   "version": "3"
  }
 },
 "nbformat": 4,
 "nbformat_minor": 2
}
