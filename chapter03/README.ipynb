{
 "cells": [
  {
   "cell_type": "markdown",
   "metadata": {},
   "source": [
    "# Pętle\n",
    "\n",
    "Nie ma nic gorszego niż konieczność wielokrotnego wykonywania tej samej czynności. Pewnie dlatego prawdopodobnie wiele osób mając problem z zaśnięciem liczy barany. Nie ma to nic wspólnego z cudownymi właściwościami usapiającymi tych uroczych ssaków - powodem jest to, że ciągłe powatarzanie czegoś jest nużące, a umysłowi łatwiej się wyłączyć, jeśli tylko nie jest skupiony na czymś interesującym.\n",
    "\n",
    "Ci programiści, którzy nie mają problemów z zaśnieciem również nieszczególnie przepadaja za powtarzaniem się. Dużym szczęściem jest, występowanie w większości języków programowania pętli for. Służy ona do automatycznego powtarzania innych instrukcji programistycznych i bloków kodu.\n",
    "\n",
    "W tym rozdziale przyjrzymy się pętlom for, jak również innemu typowi pętli dostępnemu w języku Python: pętli while.\n",
    "\n",
    "## Używanie pętli for\n",
    "\n",
    "Aby pięciokrotnie wyświetlić słowo cześć w Pythonie, możemy napisać:"
   ]
  },
  {
   "cell_type": "code",
   "execution_count": null,
   "metadata": {},
   "outputs": [],
   "source": [
    "print(\"cześć\")\n",
    "print(\"cześć\")\n",
    "print(\"cześć\")\n",
    "print(\"cześć\")\n",
    "print(\"cześć\")"
   ]
  },
  {
   "cell_type": "markdown",
   "metadata": {},
   "source": [
    "Ale jest to raczej męczące. Aby się nie męczyć, możemy użyć pętli for, aby zmniejszyć ilość pisania oraz powtarzania:"
   ]
  },
  {
   "cell_type": "code",
   "execution_count": null,
   "metadata": {},
   "outputs": [],
   "source": [
    "for x in range (0,5):\n",
    "  print(\"cześć\")"
   ]
  },
  {
   "cell_type": "markdown",
   "metadata": {},
   "source": [
    "Jak widzicie użyliśmy funkcji range, można jej użyć do utworzenia listy liczb z przedziału od liczby początkowej do liczby o 1 mniejszej od liczby końcowej. Zdaję sobie sprawę z tego, że może brzmieć to trochę niejasno, więc połączmy funkcję range z funkcją list, aby dowiedzieć się, jak to działa. Funkcja range w zasadzie nie tworzy listy liczb, ale zwraca tzw. iterator, czyli typ obiektu w języku Python, który został zaprojektowany z myślą o pętlach.\n",
    "\n",
    "Gdy jednak połączymy funkcję range z funkcją list, uzyskamy listę z liczbami:"
   ]
  },
  {
   "cell_type": "code",
   "execution_count": null,
   "metadata": {},
   "outputs": [],
   "source": [
    "print(list(range(10,20)))"
   ]
  },
  {
   "cell_type": "markdown",
   "metadata": {},
   "source": [
    "W przypadku pętli for, kod tak naprawdę nakazuje Pythonowi wykonać pewne zadania:\n",
    "* Rozpocząc odliczanie od 0 i zakończyć przed dotarciem do 5\n",
    "* Wartość każdej kolejnej wyliczanej liczby zapisywać w zmiennej x.\n",
    "\n",
    "Następnie Python wykonuje blok kodu. Zwróc uwagę, że na początku tego wiersza znajdują się cztery dodatkowe spacje. Gdybyśmy wpisali kod w środowisku programistycznym (IDLE), wcięcia wykonywane byłyby automatycznie.\n",
    "\n",
    "Gdy wciśniemy ENTER po wpisaniu drugiego wiersza, program pięć razy wyświetli nam \"cześć\". Możemy nawet zliczyć, używając x w naszej instrukcji print:"
   ]
  },
  {
   "cell_type": "code",
   "execution_count": null,
   "metadata": {},
   "outputs": [],
   "source": [
    "for x in range(0,5):\n",
    "    print(\"cześć\", x)"
   ]
  },
  {
   "cell_type": "code",
   "execution_count": null,
   "metadata": {},
   "outputs": [],
   "source": [
    "Dla porównania zauważmy, jeżeli znów pozbędziemy się pętli for, nasz kod może wyglądać mniej więcej tak:"
   ]
  },
  {
   "cell_type": "code",
   "execution_count": null,
   "metadata": {},
   "outputs": [],
   "source": [
    "x=0\n",
    "print(\"cześć\", x)\n",
    "x=1\n",
    "print(\"cześć\", x)\n",
    "x=2\n",
    "print(\"cześć\", x)\n",
    "x=3\n",
    "print(\"cześć\", x)\n",
    "x=4\n",
    "print(\"cześć\", x)"
   ]
  },
  {
   "cell_type": "markdown",
   "metadata": {},
   "source": [
    "W ten sposób użycie pętli uchroniło nas tak naprawdę przed pisaniem ośmiu dodatkowych wierszy kodu. Programiści nie cierpią się powtarzać, dlatego pętla for należy do najpopularniejszych instrukcji w językach programowania.\n",
    "\n",
    "## Choinka\n",
    "\n",
    "Zbliżają się Święta, czas na prezenty ;) A przynajmniej na drzweka iglaste\n",
    "w każdym centrum handlowym. W ramach ćwiczenia spróbujemy narysować\n",
    "takie drzewko w konsoli.\n",
    "\n",
    "Zaczniemy od najprostszej możliwej wersji zadania, aby później rozszerzyć\n",
    "je do bardziej funkcjonalnej. Tak więc na zachętę, pół choinki:"
   ]
  },
  {
   "cell_type": "code",
   "execution_count": null,
   "metadata": {},
   "outputs": [],
   "source": [
    "print(\"*\")\n",
    "print(\"**\")\n",
    "print(\"***\")\n",
    "print(\"*\")\n",
    "print(\"**\")\n",
    "print(\"***\")\n",
    "print(\"****\")\n",
    "print(\"*\")\n",
    "print(\"**\")\n",
    "print(\"***\")\n",
    "print(\"****\")\n",
    "print(\"*****\")\n",
    "print(\"******\")"
   ]
  },
  {
   "cell_type": "markdown",
   "metadata": {},
   "source": [
    "Nie wygląda to najgorzej, ale trochę pisania było. A co gdybyśmy chcieli\n",
    "mniejszą choinkę ? Albo większą, złożoną z setek elementów do wydrukowania\n",
    "na papierze A0 ? To stanowczo zbyt dużo pisania, nawet gdyby robić to\n",
    "przy użyciu mnożenia napisów (``\"*\" * 100``, itd.). Ewidentnie jest to\n",
    "czynność tak powtarzalna, że program może to zrobić za nas.\n",
    "\n",
    "\n",
    "## Listy i pętla for\n",
    "\n",
    "\n",
    "Do wykonywania takich powtarzalnych czynności będą służyły nam pętle.\n",
    "Pozostając w konwencji świątecznej, wyobraźmy sobie na chwilę, że\n",
    "jesteśmy Świętym Mikołajem, który ma za zadanie dostarczyć wszystkim\n",
    "prezenty.\n",
    "\n",
    "Jak wiadomo, Mikołaj posiada listę osób, którym prezenty\n",
    "się należa. Najprostszym podejściem, które gwarantuję, że nikogo nie\n",
    "pominiemy będzie przechodzenie po kolei po liście i dostarczanie kolejnym\n",
    "osobom ich prezentów. Abstrahując od fizycznych aspektów zadania,\n",
    "procedura dostarczania prezentów mogłaby wygląć tak:\n",
    "\n",
    "    Niech ListaOsób zawiera osoby którym należy się prezent.\n",
    "\n",
    "    Dla każdej osoby (dalej znanej jako Osoba), będącej na ListaOsób:\n",
    "        Dostarcz prezent do Osoba\n",
    "\n",
    "Formatowanie powyższego tekstu nie jest przypadkowe. Właściwie jest\n",
    "to zamaskowany program w Pythonie:\n",
    "\n",
    "    gift_list = people_who_deserve_gifts()\n",
    "\n",
    "    for person in gift_list:\n",
    "        deliver_gift(person)\n",
    "        print(\"Dostarczono prezent dla:\", person)\n",
    "    print(\"Dostarczono wszystkie prezenty\")\n",
    "\n",
    "Większość rzeczy powinna już wyglądać znajomo. Wywołujemy tutaj dwie funkcje:\n",
    "`people_who_deserve_gifts` i `deliver_gift` - jak one działają,\n",
    "wie tylko Mikołaj. Wynikowi wywołania pierwszej z nich nadajemy nazwę\n",
    "`gift_list`, aby móc się później do tej wartości odwołać (tak samo jak w opisie powyżej).\n",
    "\n",
    "Nowym elementem jest sama pętla, która składa się z:\n",
    "\n",
    "* Słowa `for`\n",
    "* Nazwy którą chcemy nadawać kolejnym elementom.\n",
    "* Słowa `in`\n",
    "* Wartości będącej listą lub nazwy która się do takiej odwołuje.\n",
    "* Treści wciętej o jeden poziom (dokładnie tak samo jak to było w przypadku`if`)\n",
    "\n",
    "W ten sam sposób możemy wydrukować pierwszą cześć naszej pół-choinki:"
   ]
  },
  {
   "cell_type": "code",
   "execution_count": null,
   "metadata": {},
   "outputs": [],
   "source": [
    "liczby = [1, 2, 3]\n",
    "for n in liczby:\n",
    "    print(\"*\" * n)"
   ]
  },
  {
   "cell_type": "markdown",
   "metadata": {},
   "source": [
    "No tak, ale nadal musieliśmy ręcznie wypisać zawartość całej listy.\n",
    "Problem ten rozwiąże nam funkcja `range` (czyli zakres, przedział).\n",
    "Oto kilka przykładów użycia:"
   ]
  },
  {
   "cell_type": "code",
   "execution_count": null,
   "metadata": {},
   "outputs": [],
   "source": [
    "print(list(range(2, 5, 1)))\n",
    "print(list(range(1, 11, 2)))\n",
    "print(list(range(1, 11)))\n",
    "print(list(range(1, 2)))\n",
    "print(list(range(2)))"
   ]
  },
  {
   "cell_type": "markdown",
   "metadata": {},
   "source": [
    "Funkcja `range` nie tworzy bezpośrednio listy, ale zwraca generator.\n",
    "Generatory pozwalają tworzyć sekwencje wartości, nie zajmując nipotrzebnie\n",
    "pamięci. Aby otrzymać listę z takiej sekwencji musimy użyć funkcji `list`.\n",
    "\n",
    "Funkcja`range` ma trzy formy. Najprostrza (i najczęściej używana),\n",
    "tworzy sekwencję od 0 do podanej liczby. Pozostałe formy pozwalają podać\n",
    "początek zakresu oraz krok. Utworzona sekwencja nigdy nie zawiera końca\n",
    "podanego zakresu.\n",
    "\n",
    "Wydrukujmy więc większą choinkę:"
   ]
  },
  {
   "cell_type": "code",
   "execution_count": null,
   "metadata": {},
   "outputs": [],
   "source": [
    "lst = list(range(1, 11))\n",
    "for i in lst:\n",
    "    print(\"*\"*i)"
   ]
  },
  {
   "cell_type": "markdown",
   "metadata": {},
   "source": [
    "`range` zaoczszędziło nam sporo pisania. Możemy zaoszczędzić\n",
    "jeszcze więcej pomijając nazywanie samej listy:"
   ]
  },
  {
   "cell_type": "code",
   "execution_count": null,
   "metadata": {},
   "outputs": [],
   "source": [
    "for i in list(range(1, 5)):\n",
    "    print(i*\"#\")"
   ]
  },
  {
   "cell_type": "markdown",
   "metadata": {},
   "source": [
    "Gdy używamy słowa kluczowego `for`, nie musimy używać funkcji\n",
    "`list`. `for` potrafi poradzić sobie z funkcją `range`, więc\n",
    "można nasz program jeszcze uprościć:"
   ]
  },
  {
   "cell_type": "code",
   "execution_count": null,
   "metadata": {},
   "outputs": [],
   "source": [
    "for i in range(1, 5):\n",
    "    print(i * \"#\")"
   ]
  },
  {
   "cell_type": "markdown",
   "metadata": {},
   "source": [
    "Nic nie stoi na przeszkodzie aby pętla nie mogła się znajdować\n",
    "w innej pętli. Należy jedynie pamiętać o odpowiednich wcięciach i\n",
    "użyciu innych nazw, np. ``i`` i ``j`` (lub też bardziej adekwatnych do\n",
    "zawartości listy):"
   ]
  },
  {
   "cell_type": "code",
   "execution_count": null,
   "metadata": {},
   "outputs": [],
   "source": [
    "for i in range(1, 3):\n",
    "    for j in range(2, 4):\n",
    "        print(i, j)"
   ]
  },
  {
   "cell_type": "markdown",
   "metadata": {},
   "source": [
    "Korzystając z tej techniki możemy powtarzać nasz kawałek choinki:"
   ]
  },
  {
   "cell_type": "code",
   "execution_count": null,
   "metadata": {},
   "outputs": [],
   "source": [
    "for i in range(3): # powtórz 3 razy\n",
    "    for size in range(1, 4):\n",
    "        print(size * \"*\")"
   ]
  },
  {
   "cell_type": "markdown",
   "metadata": {},
   "source": [
    "### Zadanie \n",
    "Zanim przejdziesz do kolejnego punktu, spróbuj przerobić powyższy kod tak aby przy każdym z trzech powtórzeń\n",
    "pierwszej (zewnętrznej) pętli, druga wykonywała się raz więcej. W ten sposób\n",
    "powinniśmy otrzymać naszą pół-choinkę z początku rozdziału."
   ]
  },
  {
   "cell_type": "code",
   "execution_count": null,
   "metadata": {},
   "outputs": [],
   "source": [
    "# rozwiązanie"
   ]
  },
  {
   "cell_type": "markdown",
   "metadata": {},
   "source": [
    "## Skoro już omawiamy pętle\n",
    "\n",
    "Pętla `for` nie jest jedyną pętlą dostępną w Pythonie, jest tu też `while`. Pętla `for` to pętla o określonej długości, natomiast pętli `while` używa się, gdy nie wiadomo zawczasu, kiedy trzeba będzie przestać wykonywać pętle.\n",
    "\n",
    "Wyobraźcie sobie schody z 20 stopniami. Schody znajdują się wewnątrz budynku, Ty wiesz że na nie się wespniesz. Tak właśnie działa pętla for:"
   ]
  },
  {
   "cell_type": "code",
   "execution_count": null,
   "metadata": {},
   "outputs": [],
   "source": [
    "for stopien in range (0,20):\n",
    "    print(stopien)"
   ]
  },
  {
   "cell_type": "markdown",
   "metadata": {},
   "source": [
    "A teraz wyobraź sobie schody prowadzące zboczem jakiejś wielkiej góry, wiesz, że w trakcie wspinania się możesz opaść z sił lub pogoda się nagle popsuje. Tak właśnie wygląda pętla `while`."
   ]
  },
  {
   "cell_type": "code",
   "execution_count": null,
   "metadata": {},
   "outputs": [],
   "source": [
    "stopień = 0\n",
    "zmeczenie = False\n",
    "brzydkaPogoda = False\n",
    "while stopień <1000:\n",
    "    print(stopień)\n",
    "    if zmeczenie == True:\n",
    "        break\n",
    "    elif brzydkaPogoda == True:\n",
    "        break\n",
    "    else:\n",
    "        stopień = stopień +1"
   ]
  },
  {
   "cell_type": "markdown",
   "metadata": {},
   "source": [
    "# Podsumowanie\n",
    "\n",
    "W tym rozdziale używaliśmy pętli, aby uniknąć znudzenia w trakci wykonywania monotonnych zadań: zapisaliśmy je w blokach i kazaliśmy Pythonowi je wykonywać wielokrotnie. Poznaliśmy dwa typy pętli `for` i `while`. Są one do siebie podobne, lecz można ich używać w różny sposób."
   ]
  }
 ],
 "metadata": {
  "kernelspec": {
   "display_name": "micro:bit",
   "language": "python",
   "name": "ubit"
  },
  "language_info": {
   "codemirror_mode": {
    "name": "python",
    "version": 3
   },
   "file_extension": ".py",
   "mimetype": "text/x-python",
   "name": "python",
   "pygments_lexer": "python3",
   "version": "3"
  }
 },
 "nbformat": 4,
 "nbformat_minor": 2
}
