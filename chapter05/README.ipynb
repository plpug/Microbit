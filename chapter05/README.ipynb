{
 "cells": [
  {
   "cell_type": "markdown",
   "metadata": {},
   "source": [
    "# Wprowadzenie do micro:bit\n",
    "\n",
    "BBC Micro:bit to małe, wszechstronne urządzenie, które ma dużą ilość sensorów, wejścia i wyjścia oraz co ciekawe ekranem LED 5x5 i można je programować w Pythonie!\n",
    "Jak widzicie na poniższym obrazku wygląda bardzo przyjaźnie :)\n",
    "\n",
    "\n",
    "Oczywiście Python nie jest jedynym językiem, stosowanym do programowania tego urządzenia.\n",
    "Więcej informacji na temat urządzenia znajdziecie [na stronie](http://www.microbit.org/hardware/).\n",
    "\n",
    "Poprzednie rozdziały przygotowane zostały w celu przygotowania Was do pracy z urządzeniem, teraz powinno być Wam łatwiej wykorzystać zdobytą wiedzę przy pracy z urządzeniem.\n",
    "\n",
    "Co nam będzie potrzebne:\n",
    "\n",
    "* na pewno urządzenie, ale to wiemy\n",
    "\n",
    "No to zaczynamy!\n",
    "\n",
    "## Przywitaj się z urządzeniem\n",
    "\n",
    "Zgodnie z tradycją w trakcie startu z nowym językiem programowania, najprotszą instrukcją jest wyświetlenie na ekranie komputera napisu \"hello world\". Zrób to na naszym urządzeniu, w MicroPythonie na pewno będzie to proste:"
   ]
  },
  {
   "cell_type": "code",
   "execution_count": 1,
   "metadata": {},
   "outputs": [],
   "source": [
    "from microbit import *\n",
    "\n",
    "display.scroll(\"Hello World\")"
   ]
  },
  {
   "cell_type": "markdown",
   "metadata": {},
   "source": [
    "Zwróćmy uwagę na pierwszą linie kodu:\n",
    "\n",
    "```python\n",
    "from microbit import*\n",
    "```\n",
    "\n",
    "Po co nam ta linia? Czy jest bardzo potrzebna? Tak, nawet bardzo. Wszystkie potrzebne rzeczy do naszej pracy znajdują się w module o nazwie microbit (moduł jest biliteką wcześniej istniejącego kodu). Tak więc ten fragment oznacza dosłownie \"chcę móc korzystać z wszystkiego od kodu bilioteki microbit).\n",
    "\n",
    "Linia następna:\n",
    "\n",
    "```python\n",
    "display.scroll(\"Hello World\")\n",
    "\n",
    "```\n",
    "\n",
    "Odpowiada za przewijanie ciągu znaków na wyświetlaczu. Aby móc zobaczyć jakieś znaki na naszym wyświeltaczu musimy wpisać co chcemy, musimy określić to w cudzysłowiu `(\")` oraz nawiasie `()`.\n",
    "Więc `display.scroll(\"Hello world\")` dosłownie \"Chce móc skorzystać z wyświetlacza aby móc przewinąć tekst \"Hello world\"\".\n",
    "\n",
    "Chcesz zmienić tekst przewijania, tak aby urządzenie przywitało się z Tobą np. \" Witaj Dominik\"? Niech to będzie zadanie dla Ciebie, wykonaj je samodzielnie :)\n",
    "\n",
    "## Obrazki\n",
    "\n",
    "MicroPython jest znakomity w sztuce, jeśli jedyne czego nam potrzeba to siatka 5x5 diod LED. MicroPython daje nam dużo kontroli nad wyświelaczem, dzięki czemu możemy tworzyć różnego rodzaju ciekawe efekty.  Na przykład, żeby wywołać radość w naszym urządzeniu należy wpisać:"
   ]
  },
  {
   "cell_type": "code",
   "execution_count": 2,
   "metadata": {},
   "outputs": [],
   "source": [
    "from microbit import *\n",
    "\n",
    "display.show(Image.HAPPY)"
   ]
  },
  {
   "cell_type": "markdown",
   "metadata": {},
   "source": [
    "Pewnie pamiętacie co oznacza pierwsza linijka kodu, tak więc nie będę drugi raz przypominać. Druga linia wykorzystuje obiekt do wyświeltenia wbudowanego obrazu. Obraz, który chcemy wyświetlać jest częścią obiektu obrazu o nazwie HAPPY.\n",
    "\n",
    "Poniżej znajduje się lista wbudowanych obrazów:\n",
    "\n",
    "```python\n",
    "\n",
    "Image.HEART\n",
    "Image.HEART_SMALL\n",
    "Image.HAPPY\n",
    "Image.SMILE\n",
    "Image.SAD\n",
    "Image.CONFUSED\n",
    "Image.ANGRY\n",
    "Image.ASLEEP\n",
    "Image.SURPRISED\n",
    "Image.SILLY\n",
    "Image.FABULOUS\n",
    "Image.MEH\n",
    "Image.YES\n",
    "Image.NO\n",
    "Image.CLOCK12, Image.CLOCK11, Image.CLOCK10, Image.CLOCK9, Image.CLOCK8, Image.CLOCK7, Image.CLOCK6, Image.CLOCK5, Image.CLOCK4, Image.CLOCK3, Image.CLOCK2, Image.CLOCK1\n",
    "Image.ARROW_N, Image.ARROW_NE, Image.ARROW_E, Image.ARROW_SE, Image.ARROW_S, Image.ARROW_SW, Image.ARROW_W, Image.ARROW_NW\n",
    "Image.TRIANGLE\n",
    "Image.TRIANGLE_LEFT\n",
    "Image.CHESSBOARD\n",
    "Image.DIAMOND\n",
    "Image.DIAMOND_SMALL\n",
    "Image.SQUARE\n",
    "Image.SQUARE_SMALL\n",
    "Image.RABBIT\n",
    "Image.COW\n",
    "Image.MUSIC_CROTCHET\n",
    "Image.MUSIC_QUAVER\n",
    "Image.MUSIC_QUAVERS\n",
    "Image.PITCHFORK\n",
    "Image.XMAS\n",
    "Image.PACMAN\n",
    "Image.TARGET\n",
    "Image.TSHIRT\n",
    "Image.ROLLERSKATE\n",
    "Image.DUCK\n",
    "Image.HOUSE\n",
    "Image.TORTOISE\n",
    "Image.BUTTERFLY\n",
    "Image.STICKFIGURE\n",
    "Image.GHOST\n",
    "Image.SWORD\n",
    "Image.GIRAFFE\n",
    "Image.SKULL\n",
    "Image.UMBRELLA\n",
    "Image.SNAKE\n",
    "```\n",
    "\n",
    "### Zadanie\n",
    "\n",
    "Jak widzicie powyżej znajduje się lista wbudowanych obrazów, zadaniem dla Was jest uruchomić każdy z nich. Miłej zabawy :)"
   ]
  },
  {
   "cell_type": "code",
   "execution_count": 5,
   "metadata": {},
   "outputs": [],
   "source": [
    "# uzupełnij kod\n",
    "from microbit import *\n",
    "\n",
    "display.show(Image.STICKFIGURE)"
   ]
  },
  {
   "cell_type": "markdown",
   "metadata": {},
   "source": [
    "## Obrazki DIY\n",
    "\n",
    "Oczywiście możesz również tworzyć własne obrazki i wyświetlać je na urządeniu. To proste.\n",
    "\n",
    "Każda dioda LED na urządzeniu może zostać ustawiona w jednym z 10 stanów. Jeśli jest ustawiona na 0 (zero) - jest wyłączona. Dosłownie jej jasność jest zerowa. Jeśli jednak jest ustawiona na 9 - to jej najjaśniejsze ustawienie. Wartości od 1 do 8 reprezentują pośrednie poziomy jasności od wyłączonej (0) do tej w pełni jasności (9).\n",
    "\n",
    "Będąc uzbrojonym w te informacje, możliwe jest utworzenie obrazka jak ten:"
   ]
  },
  {
   "cell_type": "code",
   "execution_count": 6,
   "metadata": {},
   "outputs": [],
   "source": [
    "from microbit import *\n",
    "\n",
    "boat = Image(\"05050:\"\n",
    "             \"05050:\"\n",
    "             \"05050:\"\n",
    "             \"99999:\"\n",
    "             \"09990\")\n",
    "\n",
    "display.show(boat)"
   ]
  },
  {
   "cell_type": "markdown",
   "metadata": {},
   "source": [
    "# Animacje\n",
    "\n",
    "Takie obrazki są zabawne, ale jeszcze więcej zabawy mamy gdy chcemy aby się przesuwały. Jest to proste w MicroPythonie, po prostu musimy użyć listy obrazków. Tutaj jest lista zakupów:\n",
    "\n",
    "```python\n",
    "\n",
    "Jajka\n",
    "Becon\n",
    "Pomidory\n",
    "```\n",
    "\n",
    "Tak się tworzy listę w Pythonie:\n",
    "\n",
    "```python\n",
    "zakupy = [\"jajka\", \"bekon\", \"pomidory\"]\n",
    "```\n",
    "Prosto tworzymy listę nazywając ja `zakupy` oraz tworzymy jej trzy elementy. Python wie, że jest to lista ponieważ jest ona umieszczona w nawiasie kwadratowym `[]`. Elementy są oddzielone przecinkami, a w tym przypadku elementy listy są trzema ciągami znaków: `jajka`, `bekon`, `pomidory`.\n",
    "Wiemy, że są to ciągi znaków ponieważ są one umieszczone w cudzysłowie `\"\"`.\n",
    "\n",
    "Możemy nawet przechowywać w tej samej liście różne rodzaje rzeczy. Na szczeście mamy kilka list obrazków już wbudowanych są zwane `Image.ALL_CLOCKS` i `Image.ALL_ARROWS`:"
   ]
  },
  {
   "cell_type": "code",
   "execution_count": null,
   "metadata": {},
   "outputs": [],
   "source": [
    "from microbit import *\n",
    "\n",
    "display.show(Image.ALL_CLOCKS, loop=True, delay=100)"
   ]
  },
  {
   "cell_type": "markdown",
   "metadata": {},
   "source": [
    "Podobnie jak w przypadku pojedyńczego obrazu używamy `display.SHOW` aby wyświelić go na ekranie urządzenia. Jednak my daliśmy znać MicroPythonowi aby używał `Image.ALL_CLOCKS`\ti on rozumie, że musi wyświetlić wszystkie obrazy z listy, jeden po drugim. Powiedzieliśmy również MicroPythonowi aby zachował zapętlenie nad listą obrazów (animacja trwa wiecznie) `loop=true`.\n",
    "Możemy również dać znać, że chcielibyśmy aby obrazki wyświetlały się z opóźnieniem 100 milisekund `delay=100`."
   ]
  },
  {
   "cell_type": "code",
   "execution_count": 1,
   "metadata": {},
   "outputs": [],
   "source": [
    "from microbit import *\n",
    "\n",
    "boat1 = Image(\"05050:\"\n",
    "              \"05050:\"\n",
    "              \"05050:\"\n",
    "              \"99999:\"\n",
    "              \"09990\")\n",
    "\n",
    "boat2 = Image(\"00000:\"\n",
    "              \"05050:\"\n",
    "              \"05050:\"\n",
    "              \"05050:\"\n",
    "              \"99999\")\n",
    "\n",
    "boat3 = Image(\"00000:\"\n",
    "              \"00000:\"\n",
    "              \"05050:\"\n",
    "              \"05050:\"\n",
    "              \"05050\")\n",
    "\n",
    "boat4 = Image(\"00000:\"\n",
    "              \"00000:\"\n",
    "              \"00000:\"\n",
    "              \"05050:\"\n",
    "              \"05050\")\n",
    "\n",
    "boat5 = Image(\"00000:\"\n",
    "              \"00000:\"\n",
    "              \"00000:\"\n",
    "              \"00000:\"\n",
    "              \"05050\")\n",
    "\n",
    "boat6 = Image(\"00000:\"\n",
    "              \"00000:\"\n",
    "              \"00000:\"\n",
    "              \"00000:\"\n",
    "              \"00000\")\n",
    "\n",
    "all_boats = [boat1, boat2, boat3, boat4, boat5, boat6]\n",
    "display.show(all_boats, delay=200)"
   ]
  },
  {
   "cell_type": "markdown",
   "metadata": {},
   "source": [
    "Jak działa ten kod:\n",
    "\n",
    "* Tworzymy sześć obrazków łodzi `boat` w taki sam sposób jaki opisaliśmy wyżej.\n",
    "* Umieszczamy je na liście o nazwie `all_boats`.\n",
    "* Wreszcie prosimy aby animować tą listę z opóźnieniem 200 milisekund.\n",
    "* Przez to, że nie została ustawiona pętla, animacja uruchamia się tylko raz."
   ]
  },
  {
   "cell_type": "markdown",
   "metadata": {},
   "source": [
    "### Zadanie\n",
    "\n",
    "Narysuj własny obrazek"
   ]
  },
  {
   "cell_type": "code",
   "execution_count": 2,
   "metadata": {},
   "outputs": [],
   "source": [
    "img = Image(\"00000:\"\n",
    "            \"00000:\"\n",
    "            \"00000:\"\n",
    "            \"00000:\"\n",
    "            \"00000\")\n",
    "\n",
    "display.show(img)"
   ]
  },
  {
   "cell_type": "code",
   "execution_count": null,
   "metadata": {},
   "outputs": [],
   "source": []
  }
 ],
 "metadata": {
  "kernelspec": {
   "display_name": "micro:bit",
   "language": "python",
   "name": "ubit"
  },
  "language_info": {
   "codemirror_mode": {
    "name": "python",
    "version": 3
   },
   "file_extension": ".py",
   "mimetype": "text/x-python",
   "name": "python",
   "pygments_lexer": "python3",
   "version": "3"
  }
 },
 "nbformat": 4,
 "nbformat_minor": 2
}
