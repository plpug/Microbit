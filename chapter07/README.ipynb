{
 "cells": [
  {
   "cell_type": "markdown",
   "metadata": {},
   "source": [
    "# Wejście/Wyjście\n",
    "\n",
    "Na dole płytki BBC micro:bit znajdują się metalowe paski, dzięki\n",
    "którym urządzenie wygląda jakby miało zęby.\n",
    "Są one pinami wejścia/wyjścia (z angielskiego - I/O pins).\n",
    "\n",
    "Niektóre z pinów są większe niż pozostłe, dlatego też możliwe jest\n",
    "podpięcie pod nie \"krokodylków\".\n",
    "Piny te oznaczone są jako 0, 1, 2, 3V i GND (komputery zawsze\n",
    "zaczynają liczenie od zera).\n",
    "Jeśli podłączysz do urządzenia dodatkową płytkę krawędziową, możliwe\n",
    "będzie podpięcie się\n",
    "do pozostałych (mniejszych) pinów.\n",
    "\n",
    "Każdy pin urządzenia BBC micro:bit reprezentowany jest obiektem\n",
    "nazywanym pinN, gdzie N jest numerem pina.\n",
    "Przykładowo, jeśli chcesz zrobić coś używając pinu oznaczonego 0\n",
    "(zerem), użyj obiektu nazwanego jako pin0.\n",
    "\n",
    "Proste!\n",
    "\n",
    "Te obiekty mają wiele powiązanych z nimi metod, w zależności od\n",
    "możliwości danego pina.\n",
    "\n",
    "## Łaskotliwy Python\n",
    "\n",
    "Najprostrzym przykładem użycia pinów jako wejść jest sprawdzanie czy\n",
    "są one dotykane.\n",
    "Tak więc możesz połaskotać płytkę by zaśmiała się w ten sposób:"
   ]
  },
  {
   "cell_type": "code",
   "execution_count": null,
   "metadata": {},
   "outputs": [],
   "source": [
    "from microbit import *\n",
    "\n",
    "while True:\n",
    "    if pin0.is_touched():\n",
    "        display.show(Image.HAPPY)\n",
    "    else:\n",
    "        display.show(Image.SAD)"
   ]
  },
  {
   "cell_type": "markdown",
   "metadata": {},
   "source": [
    "Jedną ręką przytrzymaj płytkę za pin GND. Następnie, drugą rękął\n",
    "dotknij (lub połaskocz) pin 0.\n",
    "Powinieneś zobaczyć że wyświetlana mina zmienia się z nieszczęśliwej na radosną.\n",
    "\n",
    "To jest forma bardzo prostego sprawdzania wejścia, ale zabawa zaczyna\n",
    "się dopiero przy podłączaniu\n",
    "do płytki innych układów z użyciem pinów.\n",
    "\n",
    "## Brzdęk i Brzdąk\n",
    "\n",
    "Najprostszym elementem jakie możemy podpiąć pod płytkę jest piezo\n",
    "elektryczny brzęczyk.  Użyjemy go jako wyjście.\n",
    "\n",
    "Ten malutki element wytwarza wysokiej częstotliwości pisk, po\n",
    "podłączeniu do układu.\n",
    "By podpiąć go pod twoją płytkę BBC micro:bit powinieneś podpiąć\n",
    "krokodylki do pinów 0 i GND (jak pokazane poniżej).\n",
    "\n",
    "![microbit][microbit]\n",
    "\n",
    "[microbit]: https://github.com/plpug/Microbit/raw/master/chapter08/img/pin0-gnd.png \"microbit\"\n",
    "\n",
    "Przewód od pina 0 powinien być podpięty do oznaczonego plusem złącza\n",
    "brzęczyka, a przewód od GND - do złącza oznaczonego minusem.\n",
    "\n",
    "Poniższy program spowoduje że brzęczyk wydobędzie z siebie dźwięk:"
   ]
  },
  {
   "cell_type": "code",
   "execution_count": null,
   "metadata": {},
   "outputs": [],
   "source": [
    "from microbit import *\n",
    "\n",
    "pin0.write_digital(1)"
   ]
  },
  {
   "cell_type": "markdown",
   "metadata": {},
   "source": [
    "To jest zabawne przez około 5 sekund, po których chcesz by ten\n",
    "przeraźliwy pisk zakończył się.\n",
    "Polepszmy nasz przykład by wydał inny dźwięk:"
   ]
  },
  {
   "cell_type": "code",
   "execution_count": null,
   "metadata": {},
   "outputs": [],
   "source": [
    "from microbit import *\n",
    "\n",
    "while True:\n",
    "    pin0.write_digital(1)\n",
    "    sleep(20)\n",
    "    pin0.write_digital(0)\n",
    "    sleep(480)"
   ]
  },
  {
   "cell_type": "markdown",
   "metadata": {},
   "source": [
    "Możesz domyślić się jak ten skrypt działa? Pamiętaj że \"1\" oznacza\n",
    "\"włączony\" a \"0\" to \"wyłączony\" w cyfrowym świecie.\n",
    "\n",
    "Płytka pworadzona jest w tryb nieskończonego zapętlenia (wykonywania w\n",
    "kółko tych samych operacji).\n",
    "Zaczyna od niezwłocznego ustawienia pinu 0 w stan włączony.  Wymusza\n",
    "to na brzęczyku jego brzęczenie.\n",
    "W trakcie gdy brzęczyk wydaje dźwięk, płytka \"zasypia\" na 20\n",
    "milisekund, po czym ustawia pin 0 w stan\n",
    "wyłączony (wyłączając brzęczyk). To daje efekt krótkiego pisknięcia.\n",
    "Następnie płytka ponownie zasypia\n",
    "na 480 mili sekund, zanim ponownie rozpocznie instrukcje od początku\n",
    "pętli. Oznacza to że uzyskamy dwa pisknięcia\n",
    "w każdej sekundzie (jedno co 500 mili sekund - czyli co pół sekundy).\n",
    "\n",
    "W ten sposób zrobiliśmy bardzo prosty metronom!"
   ]
  }
 ],
 "metadata": {
  "kernelspec": {
   "display_name": "micro:bit",
   "language": "python",
   "name": "ubit"
  },
  "language_info": {
   "codemirror_mode": {
    "name": "python",
    "version": 3
   },
   "file_extension": ".py",
   "mimetype": "text/x-python",
   "name": "python",
   "pygments_lexer": "python3",
   "version": "3"
  }
 },
 "nbformat": 4,
 "nbformat_minor": 2
}
