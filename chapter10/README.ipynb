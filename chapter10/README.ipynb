{
 "cells": [
  {
   "cell_type": "markdown",
   "metadata": {},
   "source": [
    "# Mowa\n",
    "\n",
    "Komputer i roboty, które mówią czują się bardziej ludzkie. Sprawienie aby micro:bit mówił jest tzw. formą przekazywania informacji w formie zabawy,\n",
    "w skuteczny i użyteczny sposób. W zwiazku z tym w urządzeniu wbudowany jest syntezator mowy oparty na inżynierii wstecznej wersji syntezatora z 1980 roku.\n",
    "\n",
    "Brzmi to bardzo fajnie, mając to na uwagę zamierzamy wykorzystać syntezator mowy do stworzenia...\n",
    "\n",
    "## Dalek Poetry\n",
    "\n",
    "![robot dalek][dalek]\n",
    "\n",
    "[dalek]: https://github.com/plpug/Microbit/raw/master/chapter10/img/dalek.jpg \"robot dalek\"\n",
    "\n",
    "To bardzo mało znany fakt, że Dalekowie uwielbiają poezje - szczególnie limeryki. Kto by pomyślał, ale fakt jest faktem.\n",
    "W każdym razie chcielibyśmy aby Dalek nam recytował na żadanie.\n",
    "\n",
    "## Powiedz coś\n",
    "\n",
    "Przed umożliwieniem mówienia urządzeniu musimy podłączyć przewody, tak jak na obrazku poniżej:\n",
    "\n",
    "![plytka][plytka]\n",
    "\n",
    "[plytka]: https://github.com/plpug/Microbit/raw/master/chapter10/img/speech1.png \"obraz plytki\"\n",
    "\n",
    "Najprostszym sposobem na uzyskanie możliwości mówienia jest zaimportowanie `speech` czyli modułu mowy. Użyj tej funkcji np. tak:"
   ]
  },
  {
   "cell_type": "code",
   "execution_count": 1,
   "metadata": {},
   "outputs": [],
   "source": [
    "import speech\n",
    "\n",
    "speech.say(\"Hello, World\")"
   ]
  },
  {
   "cell_type": "markdown",
   "metadata": {},
   "source": [
    "Chociaż sprawiliśmy, że nasze urządzenie przemówiło i jest to fajne, nie przypomina to robota Dalek. Więc musimy zmienić niektóre parametry.\n",
    "Aby przystosować syntezator mowy dla naszych potrzeb, syntezator mowy jest bardzo mocny w tym zakresie, ponieważ możemy zmieniać cztery parametry:\n",
    "\n",
    "* `pitch` - jak wysoki lub niski jest dźwięk głosu (0 = wysoki, 255 = Barry White)\n",
    "* `speed` - jak szybka jest mowa urządzenia (0 = niemożliwy, 255 = bajka na dobranoc)\n",
    "* `mouth` - jak wydawać dźwięki z zaciśniętymi lub otwartymi ustami (0 = manekin brzuchomówcy, 255 = Foghorn Leghorn)\n",
    "* `throat` - jak zrelaksowany lub napięty jest ton głosu(0 = rozstrzęsiony , 255 = totalnie wyluzowany)\n",
    "\n",
    "Łącznie, paramatry te kontrolują jakość dźwięku (barwa). Mówiąc szczerze to najlepszy sposób, aby uzyskać ton idealny ton głosu. Chcesz eksperytmentować,\n",
    "śmiało działaj z dźwiękiem i osądzaj jego jakość.\n",
    "\n",
    "My również ekperymentowaliśmy, i oto nasz przykład:"
   ]
  },
  {
   "cell_type": "code",
   "execution_count": 3,
   "metadata": {},
   "outputs": [],
   "source": [
    "import speech\n",
    "\n",
    "speech.say(\"I am a Dalek, I'm deadly\", speed=120, pitch=100, throat=100, mouth=200)"
   ]
  },
  {
   "cell_type": "markdown",
   "metadata": {},
   "source": [
    "## Poezja\n",
    "\n",
    "Można również kazać naszemu urządzeniu aby mówił nam limeryki:"
   ]
  },
  {
   "cell_type": "code",
   "execution_count": null,
   "metadata": {},
   "outputs": [],
   "source": [
    "# DALEK poetry generator, by The Doctor\n",
    "import speech\n",
    "from microbit import sleep\n",
    "\n",
    "poem = [\n",
    "    \"there was a young man from koczala\"\n",
    "    \"where he was born\",\n",
    "    \"He returned to his hometown dark\",\n",
    "    \"he went to the lake\",\n",
    "    \"and I have been there forever\",\n",
    "    \"EXTERMINATE\",\n",
    "]\n",
    "\n",
    "# Loop over each line in the poem and use the speech module to recite it.\n",
    "for line in poem:\n",
    "    speech.say(line, speed=120, pitch=100, throat=100, mouth=200)\n",
    "    sleep(500)"
   ]
  },
  {
   "cell_type": "markdown",
   "metadata": {},
   "source": [
    "Python, dla każdego elementu listy wypełnionej strofami poetów, wywołuje w pętli “speech.say” z ustawieniami głosu robota DALEK, który recytuje poemat. Między każdą linią wstawiona jest pauza pół sekundowa, bo nawet DALEK potrzebuje czasu by wziąć oddech.\n",
    "\n",
    "Możemy również sprawić aby Dalek losowo wypowiadał słowa, które są dostępne w liście:\n",
    "\n",
    "`dalekWords = [\"EXTERMINATE\", \"WHERE, IS, DOCTOR\", \"ALARM\", \"DALEK\"]`\n",
    "\n",
    "Dzięki pętli `while` DALEK będzie wypowiadał w nieskończoność słowa z listy, po każdym słowie następuje pauza 20 sekundowa:"
   ]
  },
  {
   "cell_type": "code",
   "execution_count": null,
   "metadata": {},
   "outputs": [],
   "source": [
    "# Dalek voice\n",
    "\n",
    "from microbit import *\n",
    "import speech\n",
    "import random\n",
    "\n",
    "\n",
    "dalekWords = [\"EXTERMINATE\", \"WHERE, IS, DOCTOR\", \"ALARM\", \"DALEK\"]\n",
    "numberOfDalekWords = len(dalekWords)\n",
    "\n",
    "display.show(Image.HAPPY)\n",
    "\n",
    "while True:\n",
    "    speech.say(dalekWords[random.randrange(numberOfDalekWords)], pitch=64, speed=192, mouth=200, throat=64)\n",
    "    sleep(2000)"
   ]
  },
  {
   "cell_type": "markdown",
   "metadata": {},
   "source": [
    "## Zaśpiewaj piosenke\n",
    "\n",
    "Zmieniając ustawienie `pitch` i wywołanie funkcji `sing` sprawi, że urządzenie nam zaśpiewa (choć pewnie nie wygra eurowizji ;))\n",
    "Mapowanie numerów tonu do nut znajduje się poniżej:\n",
    "\n",
    "![nuty][nuty]\n",
    "\n",
    "[nuty]: https://github.com/plpug/Microbit/raw/master/chapter10/img/speech.png \"obraz nut\"\n",
    "\n",
    "```python\n",
    "speech.sing(\"#115DOWWWW\")\n",
    "```\n",
    "\n",
    "Zauważ jak wysokość tonu odwzorowującego śpiew jest dołączana przed fonemem wraz ze znakiem “hash” (#). Wysokość tonu pozostanie taka sama dla następujących fonemów dopóki nowa wysokość nie zostanie przypisana.\n",
    "\n",
    "Poniższy przykład demonstruje jak wszystkie trzy funkcje generujące (“say”, “pronounce” i “sing”) mogą zostać użyte by uzyskać w efekt zbliżony do mowy:"
   ]
  },
  {
   "cell_type": "code",
   "execution_count": null,
   "metadata": {},
   "outputs": [],
   "source": [
    "import speech\n",
    "from microbit import sleep\n",
    "\n",
    "speech.say(\"I can sing!\")\n",
    "sleep(1000)\n",
    "speech.say(\"Listen to me!\")\n",
    "sleep(1000)\n",
    "\n",
    "\n",
    "speech.pronounce(\"AEAE/HAEMM\", pitch=200, speed=100)  # Ahem\n",
    "sleep(1000)\n",
    "\n",
    "solfa = [\n",
    "    \"#115DOWWWWWW\",   # Doh\n",
    "    \"#103REYYYYYY\",   # Re\n",
    "    \"#94MIYYYYYY\",    # Mi\n",
    "    \"#88FAOAOAOAOR\",  # Fa\n",
    "    \"#78SOHWWWWW\",    # Soh\n",
    "    \"#70LAOAOAOAOR\",  # La\n",
    "    \"#62TIYYYYYY\",    # Ti\n",
    "    \"#58DOWWWWWW\",    # Doh\n",
    "]\n",
    "\n",
    "song = ''.join(solfa)\n",
    "speech.sing(song, speed=100)\n",
    "solfa.reverse()\n",
    "song = ''.join(solfa)\n",
    "speech.sing(song, speed=100)"
   ]
  },
  {
   "cell_type": "markdown",
   "metadata": {},
   "source": [
    "Jak widzimy nasz DALEK jest bardzo uzdolniony, potrafi recytować oraz śpiewać.\n",
    "\n",
    "## Zadanie\n",
    "\n",
    "Chce abyście stworzyli swój limeryk i kazali dalkowi go przeczytać. Nie zapominajcie o tym,\n",
    "że dalek ma to robić z uśmiechem. Pamiętamy chyba jak wywołać uśmiech na urządzeniu :)\n",
    "Przed zakończeniem swojej pracy DALEK ma nam zaśpiewać na pożegnanie."
   ]
  },
  {
   "cell_type": "code",
   "execution_count": null,
   "metadata": {},
   "outputs": [],
   "source": []
  }
 ],
 "metadata": {
  "kernelspec": {
   "display_name": "micro:bit",
   "language": "python",
   "name": "ubit"
  },
  "language_info": {
   "codemirror_mode": {
    "name": "python",
    "version": 3
   },
   "file_extension": ".py",
   "mimetype": "text/x-python",
   "name": "python",
   "pygments_lexer": "python3",
   "version": "3"
  }
 },
 "nbformat": 4,
 "nbformat_minor": 2
}
