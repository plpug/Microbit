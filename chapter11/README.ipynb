{
 "cells": [
  {
   "cell_type": "markdown",
   "metadata": {},
   "source": [
    "# Kierunek\n",
    "\n",
    "W urządzeniu BBC micro:bit jest wbudowany kompas. Jeżeli kiedykolwiek zbudujesz stacje meteorologiczną użyj tego urządzenia do pracy nad kierunkiem wiatru.\n",
    "\n",
    "## Kompas\n",
    "\n",
    "Tak można wskazać kierunek północy:"
   ]
  },
  {
   "cell_type": "code",
   "execution_count": null,
   "metadata": {},
   "outputs": [],
   "source": [
    "from microbit import *\n",
    "\n",
    "compass.calibrate()\n",
    "\n",
    "while True:\n",
    "    needle = ((15 - compass.heading()) // 30) % 12\n",
    "    display.show(Image.ALL_CLOCKS[needle])"
   ]
  },
  {
   "cell_type": "markdown",
   "metadata": {},
   "source": [
    "# Ruch\n",
    "\n",
    "BBC Micro:bit ma wbudowany akcelerometr. Pomiar ruchu wobec trzech osi:\n",
    "\n",
    "* X - przechylenie od lewej do prawej\n",
    "* Y - przechylenie od przodu do tyłu\n",
    "* Z - poruszanie się w góre i w dół\n",
    "\n",
    "Istnieje metoda każdej osi, która zwraca dodatnią lub ujemną liczbę wskazującą pomiar w mili-g. Gdy odczyt to 0 to jesteśmy na \"poziomie\" wzdłuż konretnej osi.\n",
    "Dla przykładu, tutaj mamy bardzo prosty poziom, który używa `get_x` do mierzenia jak poziom urządzenia leży wzdłóż osi X:"
   ]
  },
  {
   "cell_type": "code",
   "execution_count": null,
   "metadata": {},
   "outputs": [],
   "source": [
    "from microbit import *\n",
    "\n",
    "while True:\n",
    "    reading = accelerometer.get_x()\n",
    "    if reading > 20:\n",
    "        display.show(\"R\")\n",
    "    elif reading < -20:\n",
    "        display.show(\"L\")\n",
    "    else:\n",
    "        display.show(\"-\")\\"
   ]
  },
  {
   "cell_type": "markdown",
   "metadata": {},
   "source": [
    "Jeżeli urządzenie jest płaskie to powinno się wyświetlać. Obróć go w lewo lub w prawo i pokaże L i R odpowiednio. Urządzenie nasze ma reagować na zmiane stale,\n",
    "więc używamy do tego pętle `while`. Pierwszą rzeczą, która się dzieje w ciale pętli to pomiar wzdłóż osi X, zwany czytaniem. Ponieważ akcelerometr jest wrażliwy\n",
    "osiągnięty został poziom +/-20 w zasięgu.\n",
    "To dlatego warunek `if` i `elif` sprawdza dla `>20` i `<-20`. Instrukcja `else` oznacza, że jeśli odczyt wynosi od -20 do 20, to uważamy go za poziom. Dla każdego\n",
    "z tych warunków używamy wyświetlacza, aby pokazać odpowiedni znak.\n",
    "Istnieje również metoda `get_y` dla osi Y oraz `get_z` dla osi Z.\n",
    "\n",
    "# Instrument muzyczny\n",
    "\n",
    "Jednym z świetnych apsektów MicrPythona BBC micro:bit jest to, jak łatwo pozwala połączyć różne możliwości urządzenia razem. Przykładowo zamieńmy się w instrument\n",
    "muzyczny. Podłączamy głośnik tak samo jak w rozdziale myzycznym. Użyjmy klipsów krokodylkowych aby przymocować pin 0 i GND do dodatnich i ujemnych wejść w głośniku - nie ma\n",
    "znaczenia, w jakim kierunku są połączone one do głośnika.\n",
    "\n",
    "![microbit][microbit]\n",
    "\n",
    "[microbit]: https://github.com/plpug/Microbit/raw/master/chapter08/img/pin0-gnd.png \"microbit\"\n",
    "\n",
    "Co się stanie gdy weźmiemy odczyty z akcelerometra i przy każdym zakręcie odtworzymy dżwięk? Przekonacie się sami:"
   ]
  },
  {
   "cell_type": "code",
   "execution_count": null,
   "metadata": {},
   "outputs": [],
   "source": [
    "from microbit import *\n",
    "import music\n",
    "\n",
    "while True:\n",
    "    music.pitch(accelerometer.get_y(), 10)"
   ]
  },
  {
   "cell_type": "markdown",
   "metadata": {},
   "source": [
    "Kluczowa linia jest niesłychanie prosta. Zagnieżdzamy odczyty z osi Y jako częstotliwość którą podajemy do metody `music.pitch`. Pozwalamy jej wybrzmiewać jedynie przez 10 milisekund, dlatego bo chcemy by wysokość tonu zmieniała się dynamicznie w czasie gdy urządzenie jest przechylane. Jako, że urządzenie wykonuje nieskończoną pętle `while`, reaguje ono ciągle na zmiany mierzone w osi Y.\n",
    "\n",
    "To wszystko!"
   ]
  },
  {
   "cell_type": "code",
   "execution_count": null,
   "metadata": {},
   "outputs": [],
   "source": []
  }
 ],
 "metadata": {
  "kernelspec": {
   "display_name": "micro:bit",
   "language": "python",
   "name": "ubit"
  },
  "language_info": {
   "codemirror_mode": {
    "name": "python",
    "version": 3
   },
   "file_extension": ".py",
   "mimetype": "text/x-python",
   "name": "python",
   "pygments_lexer": "python3",
   "version": "3"
  }
 },
 "nbformat": 4,
 "nbformat_minor": 2
}
